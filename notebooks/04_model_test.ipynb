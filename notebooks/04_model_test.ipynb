{
 "cells": [
  {
   "cell_type": "markdown",
   "metadata": {},
   "source": [
    "## 04_model_test\n",
    "\n",
    "**Description:** Using the production logarithmic model to predict on unseen headlines."
   ]
  },
  {
   "cell_type": "code",
   "execution_count": 1,
   "metadata": {},
   "outputs": [],
   "source": [
    "import pickle\n",
    "import re\n",
    "\n",
    "import numpy as np\n",
    "import pandas as pd\n",
    "\n",
    "from sklearn.neighbors import KNeighborsClassifier\n",
    "from sklearn.model_selection import train_test_split, GridSearchCV\n",
    "from sklearn.linear_model import LogisticRegression\n",
    "from sklearn.pipeline import Pipeline\n",
    "from sklearn.ensemble import RandomForestClassifier, AdaBoostClassifier, AdaBoostClassifier"
   ]
  },
  {
   "cell_type": "markdown",
   "metadata": {},
   "source": [
    "**Importing Vectorizer, Model, and New Data**"
   ]
  },
  {
   "cell_type": "code",
   "execution_count": 24,
   "metadata": {},
   "outputs": [],
   "source": [
    "with open('../data/new_content.csv', 'rb') as f:\n",
    "    df2 = pd.read_csv(f)\n",
    "with open('../pickle/rf_model.pkl', 'rb') as f:\n",
    "    rf_model = pickle.load(f)\n",
    "with open('../pickle/ad_model.pkl', 'rb') as f:\n",
    "    ad_model = pickle.load(f)\n",
    "with open('../pickle/tfidf_n3.pkl', 'rb') as f:\n",
    "    tfidf_n3 = pickle.load(f)\n",
    "with open('../data/nto_update.pkl', 'rb') as f:\n",
    "    nto_update = pickle.load(f)\n",
    "with open('../data/to_update.pkl', 'rb') as f:\n",
    "    to_update = pickle.load(f)"
   ]
  },
  {
   "cell_type": "markdown",
   "metadata": {},
   "source": [
    "#### Examining New Data"
   ]
  },
  {
   "cell_type": "code",
   "execution_count": 3,
   "metadata": {},
   "outputs": [
    {
     "data": {
      "text/plain": [
       "(100, 100)"
      ]
     },
     "execution_count": 3,
     "metadata": {},
     "output_type": "execute_result"
    }
   ],
   "source": [
    "len(nto_update), len(to_update)"
   ]
  },
  {
   "cell_type": "code",
   "execution_count": 4,
   "metadata": {},
   "outputs": [],
   "source": [
    "def new_X(json_list):\n",
    "    new_x = []\n",
    "    for post in json_list:\n",
    "        new_x.append(post['title'])\n",
    "    return new_x"
   ]
  },
  {
   "cell_type": "code",
   "execution_count": 5,
   "metadata": {},
   "outputs": [],
   "source": [
    "new_nto = new_X(nto_update)\n",
    "new_to = new_X(to_update)"
   ]
  },
  {
   "cell_type": "markdown",
   "metadata": {},
   "source": [
    "##### Adding The Onion + Not The Onion Posts to DataFrame"
   ]
  },
  {
   "cell_type": "code",
   "execution_count": 57,
   "metadata": {},
   "outputs": [],
   "source": [
    "df = pd.DataFrame(new_to, columns=['title'])\n",
    "df['target'] = 0"
   ]
  },
  {
   "cell_type": "code",
   "execution_count": 58,
   "metadata": {},
   "outputs": [],
   "source": [
    "df_nto = pd.DataFrame(new_nto, columns=['title'])\n",
    "df_nto['target'] = 1"
   ]
  },
  {
   "cell_type": "code",
   "execution_count": 59,
   "metadata": {},
   "outputs": [],
   "source": [
    "df = pd.concat([df, df_nto], ignore_index=True, sort=True)"
   ]
  },
  {
   "cell_type": "markdown",
   "metadata": {},
   "source": [
    "##### Examining New Posts - The Onion"
   ]
  },
  {
   "cell_type": "code",
   "execution_count": 60,
   "metadata": {},
   "outputs": [
    {
     "data": {
      "text/html": [
       "<div>\n",
       "<style scoped>\n",
       "    .dataframe tbody tr th:only-of-type {\n",
       "        vertical-align: middle;\n",
       "    }\n",
       "\n",
       "    .dataframe tbody tr th {\n",
       "        vertical-align: top;\n",
       "    }\n",
       "\n",
       "    .dataframe thead th {\n",
       "        text-align: right;\n",
       "    }\n",
       "</style>\n",
       "<table border=\"1\" class=\"dataframe\">\n",
       "  <thead>\n",
       "    <tr style=\"text-align: right;\">\n",
       "      <th></th>\n",
       "      <th>target</th>\n",
       "      <th>title</th>\n",
       "    </tr>\n",
       "  </thead>\n",
       "  <tbody>\n",
       "    <tr>\n",
       "      <th>0</th>\n",
       "      <td>0</td>\n",
       "      <td>George Lucas said WHAT?!</td>\n",
       "    </tr>\n",
       "    <tr>\n",
       "      <th>1</th>\n",
       "      <td>0</td>\n",
       "      <td>Putin Condemns Ukrainian People’s Unprovoked 1,000-Year Occupation Of South Russia</td>\n",
       "    </tr>\n",
       "    <tr>\n",
       "      <th>2</th>\n",
       "      <td>0</td>\n",
       "      <td>Tear Gas Manufacturers Worried About Association With Everything Tear Gas Used For</td>\n",
       "    </tr>\n",
       "    <tr>\n",
       "      <th>3</th>\n",
       "      <td>0</td>\n",
       "      <td>GM Announces Money Saved From Layoffs To Fund Massive Investment In Lake Homes, Private Jets</td>\n",
       "    </tr>\n",
       "    <tr>\n",
       "      <th>4</th>\n",
       "      <td>0</td>\n",
       "      <td>California Camp Fire Fully Contained</td>\n",
       "    </tr>\n",
       "    <tr>\n",
       "      <th>5</th>\n",
       "      <td>0</td>\n",
       "      <td>Horrified Nation Wakes Up On Cyber Monday To Find Amazon Echo Devices Embedded Beneath Skin</td>\n",
       "    </tr>\n",
       "    <tr>\n",
       "      <th>6</th>\n",
       "      <td>0</td>\n",
       "      <td>Human Slave From Future Remembers When Cyber Monday Was About Celebrating Savings, Not Robot Uprising</td>\n",
       "    </tr>\n",
       "    <tr>\n",
       "      <th>7</th>\n",
       "      <td>0</td>\n",
       "      <td>Report: More Travelers Avoiding Long Lines At Airport Thanks To Cinnabon PreCheck Memberships</td>\n",
       "    </tr>\n",
       "    <tr>\n",
       "      <th>8</th>\n",
       "      <td>0</td>\n",
       "      <td>Trump Unveils Plan To Address Migrants With New Open-Fire Policy</td>\n",
       "    </tr>\n",
       "    <tr>\n",
       "      <th>9</th>\n",
       "      <td>0</td>\n",
       "      <td>The 5 Times Dad Was Irrefutably In The Zone</td>\n",
       "    </tr>\n",
       "    <tr>\n",
       "      <th>10</th>\n",
       "      <td>0</td>\n",
       "      <td>Sex-Ed FTW: This Pregnant Dog Visits Schools To Teach Children That Just Because You Have Huge Tits Doesn’t Mean They Always Look Good</td>\n",
       "    </tr>\n",
       "    <tr>\n",
       "      <th>11</th>\n",
       "      <td>0</td>\n",
       "      <td>Disgusting, Unusable Shopping Cart Has Single Sprig Of Parsley In It</td>\n",
       "    </tr>\n",
       "    <tr>\n",
       "      <th>12</th>\n",
       "      <td>0</td>\n",
       "      <td>‘Why Would A Cat Be Here?’: 5 Cheetos Commercials Where Chester Cheetah Openly Questions What The Hell He’s Doing In A Commercial For Cheese Snacks</td>\n",
       "    </tr>\n",
       "    <tr>\n",
       "      <th>13</th>\n",
       "      <td>0</td>\n",
       "      <td>Coalition Of Concerned Parents Condemns Video Games’ False Depiction Of How Easy It Is To Smash Wooden Crates</td>\n",
       "    </tr>\n",
       "    <tr>\n",
       "      <th>14</th>\n",
       "      <td>0</td>\n",
       "      <td>Paul McCartney Saddened After Learning About Death Of Longtime Collaborator John Lennon</td>\n",
       "    </tr>\n",
       "    <tr>\n",
       "      <th>15</th>\n",
       "      <td>0</td>\n",
       "      <td>Study Finds Dogs Twitching In Sleep Are Dreaming About Tearing Owners Limb From Limb</td>\n",
       "    </tr>\n",
       "    <tr>\n",
       "      <th>16</th>\n",
       "      <td>0</td>\n",
       "      <td>Milk Straight From Breast Best For Baby’s Weight</td>\n",
       "    </tr>\n",
       "    <tr>\n",
       "      <th>17</th>\n",
       "      <td>0</td>\n",
       "      <td>God Pledges $5000 for Cancer Research</td>\n",
       "    </tr>\n",
       "    <tr>\n",
       "      <th>18</th>\n",
       "      <td>0</td>\n",
       "      <td>Perverted Wall Gets Off On Making Apartment Guests Look At Exposed Brick</td>\n",
       "    </tr>\n",
       "    <tr>\n",
       "      <th>19</th>\n",
       "      <td>0</td>\n",
       "      <td>Report: Some Crazy Shit Probably Happened To Classmate Being Raised By Grandmother</td>\n",
       "    </tr>\n",
       "  </tbody>\n",
       "</table>\n",
       "</div>"
      ],
      "text/plain": [
       "    target  \\\n",
       "0        0   \n",
       "1        0   \n",
       "2        0   \n",
       "3        0   \n",
       "4        0   \n",
       "5        0   \n",
       "6        0   \n",
       "7        0   \n",
       "8        0   \n",
       "9        0   \n",
       "10       0   \n",
       "11       0   \n",
       "12       0   \n",
       "13       0   \n",
       "14       0   \n",
       "15       0   \n",
       "16       0   \n",
       "17       0   \n",
       "18       0   \n",
       "19       0   \n",
       "\n",
       "                                                                                                                                                  title  \n",
       "0                                                                                                                              George Lucas said WHAT?!  \n",
       "1                                                                    Putin Condemns Ukrainian People’s Unprovoked 1,000-Year Occupation Of South Russia  \n",
       "2                                                                    Tear Gas Manufacturers Worried About Association With Everything Tear Gas Used For  \n",
       "3                                                          GM Announces Money Saved From Layoffs To Fund Massive Investment In Lake Homes, Private Jets  \n",
       "4                                                                                                                  California Camp Fire Fully Contained  \n",
       "5                                                           Horrified Nation Wakes Up On Cyber Monday To Find Amazon Echo Devices Embedded Beneath Skin  \n",
       "6                                                 Human Slave From Future Remembers When Cyber Monday Was About Celebrating Savings, Not Robot Uprising  \n",
       "7                                                         Report: More Travelers Avoiding Long Lines At Airport Thanks To Cinnabon PreCheck Memberships  \n",
       "8                                                                                      Trump Unveils Plan To Address Migrants With New Open-Fire Policy  \n",
       "9                                                                                                           The 5 Times Dad Was Irrefutably In The Zone  \n",
       "10               Sex-Ed FTW: This Pregnant Dog Visits Schools To Teach Children That Just Because You Have Huge Tits Doesn’t Mean They Always Look Good  \n",
       "11                                                                                 Disgusting, Unusable Shopping Cart Has Single Sprig Of Parsley In It  \n",
       "12  ‘Why Would A Cat Be Here?’: 5 Cheetos Commercials Where Chester Cheetah Openly Questions What The Hell He’s Doing In A Commercial For Cheese Snacks  \n",
       "13                                        Coalition Of Concerned Parents Condemns Video Games’ False Depiction Of How Easy It Is To Smash Wooden Crates  \n",
       "14                                                              Paul McCartney Saddened After Learning About Death Of Longtime Collaborator John Lennon  \n",
       "15                                                                 Study Finds Dogs Twitching In Sleep Are Dreaming About Tearing Owners Limb From Limb  \n",
       "16                                                                                                     Milk Straight From Breast Best For Baby’s Weight  \n",
       "17                                                                                                                God Pledges $5000 for Cancer Research  \n",
       "18                                                                             Perverted Wall Gets Off On Making Apartment Guests Look At Exposed Brick  \n",
       "19                                                                   Report: Some Crazy Shit Probably Happened To Classmate Being Raised By Grandmother  "
      ]
     },
     "execution_count": 60,
     "metadata": {},
     "output_type": "execute_result"
    }
   ],
   "source": [
    "pd.set_option(\"display.max_colwidth\", 200)\n",
    "df.head(20)"
   ]
  },
  {
   "cell_type": "markdown",
   "metadata": {},
   "source": [
    "##### Examining New Posts - Not The Onion"
   ]
  },
  {
   "cell_type": "code",
   "execution_count": 61,
   "metadata": {},
   "outputs": [
    {
     "data": {
      "text/html": [
       "<div>\n",
       "<style scoped>\n",
       "    .dataframe tbody tr th:only-of-type {\n",
       "        vertical-align: middle;\n",
       "    }\n",
       "\n",
       "    .dataframe tbody tr th {\n",
       "        vertical-align: top;\n",
       "    }\n",
       "\n",
       "    .dataframe thead th {\n",
       "        text-align: right;\n",
       "    }\n",
       "</style>\n",
       "<table border=\"1\" class=\"dataframe\">\n",
       "  <thead>\n",
       "    <tr style=\"text-align: right;\">\n",
       "      <th></th>\n",
       "      <th>target</th>\n",
       "      <th>title</th>\n",
       "    </tr>\n",
       "  </thead>\n",
       "  <tbody>\n",
       "    <tr>\n",
       "      <th>180</th>\n",
       "      <td>1</td>\n",
       "      <td>Gus Johnson calls out Gus Johnson</td>\n",
       "    </tr>\n",
       "    <tr>\n",
       "      <th>181</th>\n",
       "      <td>1</td>\n",
       "      <td>British urgently want the blood of Irish people</td>\n",
       "    </tr>\n",
       "    <tr>\n",
       "      <th>182</th>\n",
       "      <td>1</td>\n",
       "      <td>Band fakes a fan base to book UK tour.</td>\n",
       "    </tr>\n",
       "    <tr>\n",
       "      <th>183</th>\n",
       "      <td>1</td>\n",
       "      <td>Top Democrat Says Caravan ‘Should Be Allowed To Come In’ Hours Before Mi...</td>\n",
       "    </tr>\n",
       "    <tr>\n",
       "      <th>184</th>\n",
       "      <td>1</td>\n",
       "      <td>Some, including an exorcist, are convinced Celine Dion's new children's clothing line is 'demonic'</td>\n",
       "    </tr>\n",
       "    <tr>\n",
       "      <th>185</th>\n",
       "      <td>1</td>\n",
       "      <td>Hawaii burger eatery closes after video seems to show rat cooking</td>\n",
       "    </tr>\n",
       "    <tr>\n",
       "      <th>186</th>\n",
       "      <td>1</td>\n",
       "      <td>Woman claims GPS directed her to drive on railroad tracks</td>\n",
       "    </tr>\n",
       "    <tr>\n",
       "      <th>187</th>\n",
       "      <td>1</td>\n",
       "      <td>Elon Musk considers move to Mars despite 'good chance of death'</td>\n",
       "    </tr>\n",
       "    <tr>\n",
       "      <th>188</th>\n",
       "      <td>1</td>\n",
       "      <td>Migrant Caravan STORM US Border Trying To Cross Illegally (Full Compilat...</td>\n",
       "    </tr>\n",
       "    <tr>\n",
       "      <th>189</th>\n",
       "      <td>1</td>\n",
       "      <td>Otter eats 3 more koi, evades capture at Chinatown park</td>\n",
       "    </tr>\n",
       "    <tr>\n",
       "      <th>190</th>\n",
       "      <td>1</td>\n",
       "      <td>You Might NOT Want To Watch This Video Home Alone! (2018-2019)</td>\n",
       "    </tr>\n",
       "    <tr>\n",
       "      <th>191</th>\n",
       "      <td>1</td>\n",
       "      <td>‘Fox &amp;amp; Friends’ Guest on Pepper-Spraying Migrants: You Can Eat It on Nachos</td>\n",
       "    </tr>\n",
       "    <tr>\n",
       "      <th>192</th>\n",
       "      <td>1</td>\n",
       "      <td>A Shocking Revelation for America!</td>\n",
       "    </tr>\n",
       "    <tr>\n",
       "      <th>193</th>\n",
       "      <td>1</td>\n",
       "      <td>WHAT is the BIG SECRET?? Ya Want to KNOW??</td>\n",
       "    </tr>\n",
       "    <tr>\n",
       "      <th>194</th>\n",
       "      <td>1</td>\n",
       "      <td>The Truth May Shock You! (2018-2019)</td>\n",
       "    </tr>\n",
       "    <tr>\n",
       "      <th>195</th>\n",
       "      <td>1</td>\n",
       "      <td>81-year-old Nursing Home Patient Charged With Attempted Murder of 76-year-old Woman</td>\n",
       "    </tr>\n",
       "    <tr>\n",
       "      <th>196</th>\n",
       "      <td>1</td>\n",
       "      <td>Man suspected of stealing 18 tons of chocolate to pay off debt Russian police say</td>\n",
       "    </tr>\n",
       "    <tr>\n",
       "      <th>197</th>\n",
       "      <td>1</td>\n",
       "      <td>Passenger calls himself a \"terrorist\" who \"destroys women's hearts\" gets thrown off the plane</td>\n",
       "    </tr>\n",
       "    <tr>\n",
       "      <th>198</th>\n",
       "      <td>1</td>\n",
       "      <td>Police: Man tries to break into bank with Bird scooter</td>\n",
       "    </tr>\n",
       "    <tr>\n",
       "      <th>199</th>\n",
       "      <td>1</td>\n",
       "      <td>Kim Kardashian SHOCKING confession about filming her infamous Sex Tape while on Ecstasy use !</td>\n",
       "    </tr>\n",
       "  </tbody>\n",
       "</table>\n",
       "</div>"
      ],
      "text/plain": [
       "     target  \\\n",
       "180       1   \n",
       "181       1   \n",
       "182       1   \n",
       "183       1   \n",
       "184       1   \n",
       "185       1   \n",
       "186       1   \n",
       "187       1   \n",
       "188       1   \n",
       "189       1   \n",
       "190       1   \n",
       "191       1   \n",
       "192       1   \n",
       "193       1   \n",
       "194       1   \n",
       "195       1   \n",
       "196       1   \n",
       "197       1   \n",
       "198       1   \n",
       "199       1   \n",
       "\n",
       "                                                                                                  title  \n",
       "180                                                                   Gus Johnson calls out Gus Johnson  \n",
       "181                                                     British urgently want the blood of Irish people  \n",
       "182                                                              Band fakes a fan base to book UK tour.  \n",
       "183                         Top Democrat Says Caravan ‘Should Be Allowed To Come In’ Hours Before Mi...  \n",
       "184  Some, including an exorcist, are convinced Celine Dion's new children's clothing line is 'demonic'  \n",
       "185                                   Hawaii burger eatery closes after video seems to show rat cooking  \n",
       "186                                           Woman claims GPS directed her to drive on railroad tracks  \n",
       "187                                     Elon Musk considers move to Mars despite 'good chance of death'  \n",
       "188                         Migrant Caravan STORM US Border Trying To Cross Illegally (Full Compilat...  \n",
       "189                                             Otter eats 3 more koi, evades capture at Chinatown park  \n",
       "190                                      You Might NOT Want To Watch This Video Home Alone! (2018-2019)  \n",
       "191                     ‘Fox &amp; Friends’ Guest on Pepper-Spraying Migrants: You Can Eat It on Nachos  \n",
       "192                                                                  A Shocking Revelation for America!  \n",
       "193                                                          WHAT is the BIG SECRET?? Ya Want to KNOW??  \n",
       "194                                                                The Truth May Shock You! (2018-2019)  \n",
       "195                 81-year-old Nursing Home Patient Charged With Attempted Murder of 76-year-old Woman  \n",
       "196                   Man suspected of stealing 18 tons of chocolate to pay off debt Russian police say  \n",
       "197       Passenger calls himself a \"terrorist\" who \"destroys women's hearts\" gets thrown off the plane  \n",
       "198                                              Police: Man tries to break into bank with Bird scooter  \n",
       "199       Kim Kardashian SHOCKING confession about filming her infamous Sex Tape while on Ecstasy use !  "
      ]
     },
     "execution_count": 61,
     "metadata": {},
     "output_type": "execute_result"
    }
   ],
   "source": [
    "pd.set_option(\"display.max_colwidth\", 200)\n",
    "df.tail(20)"
   ]
  },
  {
   "cell_type": "markdown",
   "metadata": {},
   "source": [
    "##### Removing Duplicates + Posts with 'Onion' in Them"
   ]
  },
  {
   "cell_type": "code",
   "execution_count": 62,
   "metadata": {},
   "outputs": [],
   "source": [
    "df.drop_duplicates(inplace=True)"
   ]
  },
  {
   "cell_type": "code",
   "execution_count": 63,
   "metadata": {},
   "outputs": [
    {
     "name": "stdout",
     "output_type": "stream",
     "text": [
      "<class 'pandas.core.frame.DataFrame'>\n",
      "Int64Index: 182 entries, 0 to 199\n",
      "Data columns (total 2 columns):\n",
      "target    182 non-null int64\n",
      "title     182 non-null object\n",
      "dtypes: int64(1), object(1)\n",
      "memory usage: 4.3+ KB\n"
     ]
    }
   ],
   "source": [
    "df.info()"
   ]
  },
  {
   "cell_type": "code",
   "execution_count": 64,
   "metadata": {},
   "outputs": [],
   "source": [
    "o_index = df[df['title'].str.contains('onion|Onion')].index\n",
    "df.drop(index=o_index, inplace=True)"
   ]
  },
  {
   "cell_type": "code",
   "execution_count": 65,
   "metadata": {},
   "outputs": [
    {
     "name": "stdout",
     "output_type": "stream",
     "text": [
      "<class 'pandas.core.frame.DataFrame'>\n",
      "Int64Index: 177 entries, 0 to 199\n",
      "Data columns (total 2 columns):\n",
      "target    177 non-null int64\n",
      "title     177 non-null object\n",
      "dtypes: int64(1), object(1)\n",
      "memory usage: 4.1+ KB\n"
     ]
    }
   ],
   "source": [
    "df.info()"
   ]
  },
  {
   "cell_type": "markdown",
   "metadata": {},
   "source": [
    "##### How Balanced Are the Targets?"
   ]
  },
  {
   "cell_type": "code",
   "execution_count": 66,
   "metadata": {},
   "outputs": [
    {
     "data": {
      "text/plain": [
       "1    91\n",
       "0    86\n",
       "Name: target, dtype: int64"
      ]
     },
     "execution_count": 66,
     "metadata": {},
     "output_type": "execute_result"
    }
   ],
   "source": [
    "df['target'].value_counts()"
   ]
  },
  {
   "cell_type": "markdown",
   "metadata": {},
   "source": [
    "Roughly 51% of the dataset is from \"Not the Onion\", & the remaining 49% is from \"The Onion\""
   ]
  },
  {
   "cell_type": "markdown",
   "metadata": {},
   "source": [
    "##### Vectorizing with TFIDF"
   ]
  },
  {
   "cell_type": "code",
   "execution_count": 67,
   "metadata": {},
   "outputs": [],
   "source": [
    "term_mat = tfidf_n3.transform(df['title'])"
   ]
  },
  {
   "cell_type": "markdown",
   "metadata": {},
   "source": [
    "##### Making Predictions - Adaboost"
   ]
  },
  {
   "cell_type": "code",
   "execution_count": 68,
   "metadata": {},
   "outputs": [
    {
     "data": {
      "text/plain": [
       "0.7062146892655368"
      ]
     },
     "execution_count": 68,
     "metadata": {},
     "output_type": "execute_result"
    }
   ],
   "source": [
    "ad_model.score(term_mat, df['target'])"
   ]
  },
  {
   "cell_type": "code",
   "execution_count": 69,
   "metadata": {},
   "outputs": [
    {
     "data": {
      "text/plain": [
       "array([0, 1, 0, 0, 1, 0, 0, 0, 0, 0, 0, 0, 0, 0, 0, 0, 1, 0, 1, 0, 0, 0,\n",
       "       1, 0, 0, 0, 0, 0, 0, 0, 0, 0, 0, 0, 0, 0, 0, 0, 0, 0, 0, 0, 0, 0,\n",
       "       0, 0, 0, 0, 0, 0, 0, 0, 0, 0, 0, 0, 1, 0, 0, 0, 1, 0, 0, 0, 1, 0,\n",
       "       0, 0, 0, 0, 0, 1, 0, 0, 0, 1, 0, 0, 0, 0, 1, 0, 0, 1, 0, 0, 1, 1,\n",
       "       1, 1, 0, 1, 1, 1, 1, 1, 1, 1, 1, 0, 1, 0, 1, 1, 1, 0, 0, 1, 1, 1,\n",
       "       1, 0, 1, 1, 1, 1, 1, 1, 0, 0, 1, 0, 0, 0, 1, 1, 0, 0, 1, 1, 1, 0,\n",
       "       1, 0, 1, 0, 1, 0, 1, 0, 1, 0, 1, 0, 1, 0, 0, 0, 1, 0, 1, 1, 0, 0,\n",
       "       0, 1, 0, 1, 0, 0, 1, 0, 0, 0, 0, 1, 1, 0, 1, 0, 0, 0, 0, 0, 1, 1,\n",
       "       1])"
      ]
     },
     "execution_count": 69,
     "metadata": {},
     "output_type": "execute_result"
    }
   ],
   "source": [
    "ad_model.predict(term_mat)"
   ]
  },
  {
   "cell_type": "markdown",
   "metadata": {},
   "source": [
    "#### Evaluating Predictions"
   ]
  },
  {
   "cell_type": "code",
   "execution_count": 70,
   "metadata": {},
   "outputs": [],
   "source": [
    "df['predicted'] = ad_model.predict(term_mat)"
   ]
  },
  {
   "cell_type": "code",
   "execution_count": 71,
   "metadata": {},
   "outputs": [],
   "source": [
    "order = ['title', 'target', 'predicted']\n",
    "df = df[order]\n",
    "df.reset_index(inplace=True)"
   ]
  },
  {
   "cell_type": "code",
   "execution_count": 75,
   "metadata": {},
   "outputs": [],
   "source": [
    "df.drop('index', 1, inplace=True)"
   ]
  },
  {
   "cell_type": "code",
   "execution_count": 88,
   "metadata": {},
   "outputs": [
    {
     "data": {
      "text/plain": [
       "title        Lucky Old Woman Getting Wheeled Around Airport\n",
       "target                                                    0\n",
       "predicted                                                 0\n",
       "Name: 65, dtype: object"
      ]
     },
     "execution_count": 88,
     "metadata": {},
     "output_type": "execute_result"
    }
   ],
   "source": [
    "df.iloc[65]"
   ]
  },
  {
   "cell_type": "markdown",
   "metadata": {},
   "source": [
    "**Analysis**: "
   ]
  },
  {
   "cell_type": "markdown",
   "metadata": {},
   "source": [
    "**Conclusion**: \n",
    "\n",
    "- Removing “American Voices” headlines from The Onion. \n",
    "- Lemmatize the dataset\n",
    "\n",
    "Nonetheless, I'm happy with how the model turned out, and I'm excited to start using this in the field."
   ]
  }
 ],
 "metadata": {
  "kernelspec": {
   "display_name": "Python 3",
   "language": "python",
   "name": "python3"
  },
  "language_info": {
   "codemirror_mode": {
    "name": "ipython",
    "version": 3
   },
   "file_extension": ".py",
   "mimetype": "text/x-python",
   "name": "python",
   "nbconvert_exporter": "python",
   "pygments_lexer": "ipython3",
   "version": "3.6.5"
  }
 },
 "nbformat": 4,
 "nbformat_minor": 2
}
