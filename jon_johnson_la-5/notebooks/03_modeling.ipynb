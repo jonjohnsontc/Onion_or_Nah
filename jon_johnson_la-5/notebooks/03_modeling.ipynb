{
 "cells": [
  {
   "cell_type": "markdown",
   "metadata": {},
   "source": [
    "## 03_modeling\n",
    "\n",
    "**Description:** Creating, fitting, and scoring 3 types of classification models. The highest and best fit model will be moved unto predicting on new, real-world data"
   ]
  },
  {
   "cell_type": "code",
   "execution_count": 53,
   "metadata": {},
   "outputs": [],
   "source": [
    "import numpy as np\n",
    "import pandas as pd\n",
    "import pickle\n",
    "from sklearn.metrics import confusion_matrix\n",
    "from sklearn.neighbors import KNeighborsClassifier\n",
    "from sklearn.model_selection import train_test_split\n",
    "from sklearn.grid_search import GridSearchCV\n",
    "from sklearn.linear_model import LogisticRegression\n",
    "from sklearn.pipeline import Pipeline\n",
    "from sklearn.ensemble import RandomForestClassifier, AdaBoostClassifier, AdaBoostClassifier\n",
    "import matplotlib.pyplot as plt\n",
    "import seaborn as sns"
   ]
  },
  {
   "cell_type": "markdown",
   "metadata": {},
   "source": [
    "**Retrieving values from Previous Notebook**"
   ]
  },
  {
   "cell_type": "code",
   "execution_count": 10,
   "metadata": {},
   "outputs": [],
   "source": [
    "with open('../pickle/svd_df.pkl', 'rb') as f:\n",
    "    svd_df = pickle.load(f)\n",
    "with open('../pickle/target.pkl', 'rb') as f:\n",
    "    target = pickle.load(f)\n",
    "with open('../pickle/term_df.pkl', 'rb') as f:\n",
    "    term_df = pickle.load(f)\n",
    "with open('../pickle/term_df_2.pkl', 'rb') as f:\n",
    "    term_df_2 = pickle.load(f)"
   ]
  },
  {
   "cell_type": "markdown",
   "metadata": {},
   "source": [
    "### Initializing Train-Test-Split"
   ]
  },
  {
   "cell_type": "code",
   "execution_count": 11,
   "metadata": {},
   "outputs": [],
   "source": [
    "X_train, X_test, y_train, y_test = train_test_split(svd_df, target, stratify=target, random_state=42)\n",
    "X_train_full, X_test_full, y_train_full, y_test_full = train_test_split(term_df, target, stratify=target, random_state=42)\n",
    "X_train_full_2, X_test_full_2, y_train_full_2, y_test_full_2 = train_test_split(term_df_2, target, stratify=target, random_state=42)"
   ]
  },
  {
   "cell_type": "markdown",
   "metadata": {},
   "source": [
    "Given how closely aligned headlines from The Onion and non-Onion news sources are within my dataset, I'm unsure which model will end up providing me with the best predictions. Therefore, I will explore a number of different models:\n",
    "- K-Nearest Neighbors\n",
    "- Logistic Regression\n",
    "- Random Forest\n",
    "\n",
    "Afterwards, I'll consider boosting the model which achieves the highest accuracy score."
   ]
  },
  {
   "cell_type": "markdown",
   "metadata": {},
   "source": [
    "### Using KNN"
   ]
  },
  {
   "cell_type": "markdown",
   "metadata": {},
   "source": [
    "**Initializing `KNN` through `GridsearchCV`**"
   ]
  },
  {
   "cell_type": "code",
   "execution_count": 12,
   "metadata": {},
   "outputs": [],
   "source": [
    "knn_grid = GridSearchCV(KNeighborsClassifier(), {'n_neighbors': np.arange(5,30,5)})\n",
    "knn_grid_full = GridSearchCV(KNeighborsClassifier(), {'n_neighbors': np.arange(5,30,5)})\n",
    "knn_grid_full_2 = GridSearchCV(KNeighborsClassifier(), {'n_neighbors': np.arange(5,30,5)})"
   ]
  },
  {
   "cell_type": "markdown",
   "metadata": {},
   "source": [
    "**Fitting KNN**\n",
    "\n",
    "**CAUTION: Please note that each of the below model fitting cells are comprised of 3 gridsearches! Run at your own risk**"
   ]
  },
  {
   "cell_type": "code",
   "execution_count": 14,
   "metadata": {},
   "outputs": [
    {
     "data": {
      "text/plain": [
       "GridSearchCV(cv=None, error_score='raise',\n",
       "       estimator=KNeighborsClassifier(algorithm='auto', leaf_size=30, metric='minkowski',\n",
       "           metric_params=None, n_jobs=1, n_neighbors=5, p=2,\n",
       "           weights='uniform'),\n",
       "       fit_params={}, iid=True, n_jobs=1,\n",
       "       param_grid={'n_neighbors': array([ 5, 10, 15, 20, 25])},\n",
       "       pre_dispatch='2*n_jobs', refit=True, scoring=None, verbose=0)"
      ]
     },
     "execution_count": 14,
     "metadata": {},
     "output_type": "execute_result"
    }
   ],
   "source": [
    "knn_grid.fit(X_train, y_train)\n",
    "knn_grid_full.fit(X_train_full, y_train_full)\n",
    "knn_grid_full_2.fit(X_train_full_2, y_train_full_2)"
   ]
  },
  {
   "cell_type": "code",
   "execution_count": 15,
   "metadata": {},
   "outputs": [
    {
     "data": {
      "text/plain": [
       "(0.6335554209569958, 0.6155360387643852, 0.6188673531193216)"
      ]
     },
     "execution_count": 15,
     "metadata": {},
     "output_type": "execute_result"
    }
   ],
   "source": [
    "knn_grid.best_score_, knn_grid_full.best_score_, knn_grid_full_2.best_score_"
   ]
  },
  {
   "cell_type": "code",
   "execution_count": 16,
   "metadata": {},
   "outputs": [
    {
     "data": {
      "text/plain": [
       "(KNeighborsClassifier(algorithm='auto', leaf_size=30, metric='minkowski',\n",
       "            metric_params=None, n_jobs=1, n_neighbors=15, p=2,\n",
       "            weights='uniform'),\n",
       " KNeighborsClassifier(algorithm='auto', leaf_size=30, metric='minkowski',\n",
       "            metric_params=None, n_jobs=1, n_neighbors=10, p=2,\n",
       "            weights='uniform'),\n",
       " KNeighborsClassifier(algorithm='auto', leaf_size=30, metric='minkowski',\n",
       "            metric_params=None, n_jobs=1, n_neighbors=10, p=2,\n",
       "            weights='uniform'))"
      ]
     },
     "execution_count": 16,
     "metadata": {},
     "output_type": "execute_result"
    }
   ],
   "source": [
    "knn_grid.best_estimator_, knn_grid_full.best_estimator_, knn_grid_full_2.best_estimator_"
   ]
  },
  {
   "cell_type": "markdown",
   "metadata": {},
   "source": [
    "The number of estimators that proved to be optimal being slightly different for the SVD model is interesting. Perhaps due to the sheer number of features in the other two models, greater than 10 neighbors caused too much variance within the predictions."
   ]
  },
  {
   "cell_type": "code",
   "execution_count": 17,
   "metadata": {},
   "outputs": [
    {
     "data": {
      "text/plain": [
       "([mean: 0.58767, std: 0.02487, params: {'n_neighbors': 5},\n",
       "  mean: 0.61750, std: 0.02392, params: {'n_neighbors': 10},\n",
       "  mean: 0.63356, std: 0.01067, params: {'n_neighbors': 15},\n",
       "  mean: 0.61205, std: 0.00482, params: {'n_neighbors': 20},\n",
       "  mean: 0.60736, std: 0.00816, params: {'n_neighbors': 25}],\n",
       " [mean: 0.60100, std: 0.01230, params: {'n_neighbors': 5},\n",
       "  mean: 0.61554, std: 0.00085, params: {'n_neighbors': 10},\n",
       "  mean: 0.59509, std: 0.00855, params: {'n_neighbors': 15},\n",
       "  mean: 0.58692, std: 0.01583, params: {'n_neighbors': 20},\n",
       "  mean: 0.58268, std: 0.01225, params: {'n_neighbors': 25}],\n",
       " [mean: 0.60645, std: 0.01476, params: {'n_neighbors': 5},\n",
       "  mean: 0.61887, std: 0.00398, params: {'n_neighbors': 10},\n",
       "  mean: 0.59903, std: 0.00533, params: {'n_neighbors': 15},\n",
       "  mean: 0.59010, std: 0.01869, params: {'n_neighbors': 20},\n",
       "  mean: 0.58571, std: 0.01702, params: {'n_neighbors': 25}])"
      ]
     },
     "execution_count": 17,
     "metadata": {},
     "output_type": "execute_result"
    }
   ],
   "source": [
    "knn_grid.grid_scores_, knn_grid_full.grid_scores_, knn_grid_full_2.grid_scores_"
   ]
  },
  {
   "cell_type": "markdown",
   "metadata": {},
   "source": [
    "**Scoring KNN**"
   ]
  },
  {
   "cell_type": "code",
   "execution_count": 18,
   "metadata": {},
   "outputs": [
    {
     "data": {
      "text/plain": [
       "(0.7412174439733494, 0.6403269754768393)"
      ]
     },
     "execution_count": 18,
     "metadata": {},
     "output_type": "execute_result"
    }
   ],
   "source": [
    "knn_grid.score(X_train, y_train), knn_grid.score(X_test, y_test)"
   ]
  },
  {
   "cell_type": "code",
   "execution_count": 19,
   "metadata": {},
   "outputs": [
    {
     "data": {
      "text/plain": [
       "(0.7369775893397941, 0.6307901907356949)"
      ]
     },
     "execution_count": 19,
     "metadata": {},
     "output_type": "execute_result"
    }
   ],
   "source": [
    "knn_grid_full.score(X_train_full, y_train_full), knn_grid_full.score(X_test_full, y_test_full)"
   ]
  },
  {
   "cell_type": "code",
   "execution_count": 21,
   "metadata": {},
   "outputs": [
    {
     "data": {
      "text/plain": [
       "(0.7372804360993337, 0.6330608537693007)"
      ]
     },
     "execution_count": 21,
     "metadata": {},
     "output_type": "execute_result"
    }
   ],
   "source": [
    "knn_grid_full_2.score(X_train_full_2, y_train_full_2), knn_grid_full_2.score(X_test_full_2, y_test_full_2)"
   ]
  },
  {
   "cell_type": "markdown",
   "metadata": {},
   "source": [
    "**Analysis:** While the training split score was what I would consider satisfactory, the test split score leaves much to be desired. The near 10% difference in accuracy scores tells me that there's quite a bit of overfitting at play here. I will jump to using Logistic Regression (also through `GridSearchCV`) to see if I can derive a better model."
   ]
  },
  {
   "cell_type": "markdown",
   "metadata": {},
   "source": [
    "### Using Logistic Regression"
   ]
  },
  {
   "cell_type": "markdown",
   "metadata": {},
   "source": [
    "**Initializing `LogisticRegression` through `GridSearchCV`**"
   ]
  },
  {
   "cell_type": "code",
   "execution_count": 23,
   "metadata": {},
   "outputs": [],
   "source": [
    "log_grid = GridSearchCV(LogisticRegression(), {'penalty': ['l1', 'l2'],'C': np.logspace(.01, 1, 15)})                                                \n",
    "log_grid_full = GridSearchCV(LogisticRegression(), {'penalty': ['l1', 'l2'],'C': np.logspace(.01, 1, 15)})                                                    \n",
    "log_grid_full_2 = GridSearchCV(LogisticRegression(), {'penalty': ['l1', 'l2'], 'C': np.logspace(.01, 1, 15)})"
   ]
  },
  {
   "cell_type": "markdown",
   "metadata": {},
   "source": [
    "**CAUTION: Please note that the below model fitting cell is comprised of 3 gridsearches! Run at your own risk**"
   ]
  },
  {
   "cell_type": "code",
   "execution_count": 24,
   "metadata": {},
   "outputs": [
    {
     "data": {
      "text/plain": [
       "(GridSearchCV(cv=None, error_score='raise',\n",
       "        estimator=LogisticRegression(C=1.0, class_weight=None, dual=False, fit_intercept=True,\n",
       "           intercept_scaling=1, max_iter=100, multi_class='ovr', n_jobs=1,\n",
       "           penalty='l2', random_state=None, solver='liblinear', tol=0.0001,\n",
       "           verbose=0, warm_start=False),\n",
       "        fit_params={}, iid=True, n_jobs=1,\n",
       "        param_grid={'penalty': ['l1', 'l2'], 'C': array([ 1.02329,  1.20424,  1.41719,  1.6678 ,  1.96271,  2.30978,\n",
       "         2.71823,  3.1989 ,  3.76456,  4.43025,  5.21366,  6.1356 ,\n",
       "         7.22057,  8.49739, 10.     ])},\n",
       "        pre_dispatch='2*n_jobs', refit=True, scoring=None, verbose=0),\n",
       " GridSearchCV(cv=None, error_score='raise',\n",
       "        estimator=LogisticRegression(C=1.0, class_weight=None, dual=False, fit_intercept=True,\n",
       "           intercept_scaling=1, max_iter=100, multi_class='ovr', n_jobs=1,\n",
       "           penalty='l2', random_state=None, solver='liblinear', tol=0.0001,\n",
       "           verbose=0, warm_start=False),\n",
       "        fit_params={}, iid=True, n_jobs=1,\n",
       "        param_grid={'penalty': ['l1', 'l2'], 'C': array([ 1.02329,  1.20424,  1.41719,  1.6678 ,  1.96271,  2.30978,\n",
       "         2.71823,  3.1989 ,  3.76456,  4.43025,  5.21366,  6.1356 ,\n",
       "         7.22057,  8.49739, 10.     ])},\n",
       "        pre_dispatch='2*n_jobs', refit=True, scoring=None, verbose=0),\n",
       " GridSearchCV(cv=None, error_score='raise',\n",
       "        estimator=LogisticRegression(C=1.0, class_weight=None, dual=False, fit_intercept=True,\n",
       "           intercept_scaling=1, max_iter=100, multi_class='ovr', n_jobs=1,\n",
       "           penalty='l2', random_state=None, solver='liblinear', tol=0.0001,\n",
       "           verbose=0, warm_start=False),\n",
       "        fit_params={}, iid=True, n_jobs=1,\n",
       "        param_grid={'penalty': ['l1', 'l2'], 'C': array([ 1.02329,  1.20424,  1.41719,  1.6678 ,  1.96271,  2.30978,\n",
       "         2.71823,  3.1989 ,  3.76456,  4.43025,  5.21366,  6.1356 ,\n",
       "         7.22057,  8.49739, 10.     ])},\n",
       "        pre_dispatch='2*n_jobs', refit=True, scoring=None, verbose=0))"
      ]
     },
     "execution_count": 24,
     "metadata": {},
     "output_type": "execute_result"
    }
   ],
   "source": [
    "log_grid.fit(X_train, y_train), log_grid_full.fit(X_train_full, y_train_full), log_grid_full_2.fit(X_train_full_2, y_train_full_2)"
   ]
  },
  {
   "cell_type": "code",
   "execution_count": 25,
   "metadata": {},
   "outputs": [
    {
     "data": {
      "text/plain": [
       "(0.8031496062992126, 0.8107207752877045, 0.815717746820109)"
      ]
     },
     "execution_count": 25,
     "metadata": {},
     "output_type": "execute_result"
    }
   ],
   "source": [
    "log_grid.best_score_, log_grid_full.best_score_, log_grid_full_2.best_score_"
   ]
  },
  {
   "cell_type": "code",
   "execution_count": 26,
   "metadata": {},
   "outputs": [
    {
     "data": {
      "text/plain": [
       "(LogisticRegression(C=1.962714553886212, class_weight=None, dual=False,\n",
       "           fit_intercept=True, intercept_scaling=1, max_iter=100,\n",
       "           multi_class='ovr', n_jobs=1, penalty='l2', random_state=None,\n",
       "           solver='liblinear', tol=0.0001, verbose=0, warm_start=False),\n",
       " LogisticRegression(C=1.2042434302912746, class_weight=None, dual=False,\n",
       "           fit_intercept=True, intercept_scaling=1, max_iter=100,\n",
       "           multi_class='ovr', n_jobs=1, penalty='l2', random_state=None,\n",
       "           solver='liblinear', tol=0.0001, verbose=0, warm_start=False),\n",
       " LogisticRegression(C=2.7182269518353372, class_weight=None, dual=False,\n",
       "           fit_intercept=True, intercept_scaling=1, max_iter=100,\n",
       "           multi_class='ovr', n_jobs=1, penalty='l2', random_state=None,\n",
       "           solver='liblinear', tol=0.0001, verbose=0, warm_start=False))"
      ]
     },
     "execution_count": 26,
     "metadata": {},
     "output_type": "execute_result"
    }
   ],
   "source": [
    "log_grid.best_estimator_, log_grid_full.best_estimator_, log_grid_full_2.best_estimator_"
   ]
  },
  {
   "cell_type": "code",
   "execution_count": 48,
   "metadata": {},
   "outputs": [
    {
     "data": {
      "text/plain": [
       "[mean: 0.77741, std: 0.00478, params: {'C': 1.023292992280754, 'penalty': 'l1'},\n",
       " mean: 0.80133, std: 0.00465, params: {'C': 1.023292992280754, 'penalty': 'l2'},\n",
       " mean: 0.78407, std: 0.00434, params: {'C': 1.2042434302912746, 'penalty': 'l1'},\n",
       " mean: 0.80254, std: 0.00349, params: {'C': 1.2042434302912746, 'penalty': 'l2'},\n",
       " mean: 0.78634, std: 0.00487, params: {'C': 1.417191606254852, 'penalty': 'l1'},\n",
       " mean: 0.80300, std: 0.00426, params: {'C': 1.417191606254852, 'penalty': 'l2'},\n",
       " mean: 0.78604, std: 0.00771, params: {'C': 1.6677957282718336, 'penalty': 'l1'},\n",
       " mean: 0.80285, std: 0.00469, params: {'C': 1.6677957282718336, 'penalty': 'l2'},\n",
       " mean: 0.78574, std: 0.00827, params: {'C': 1.962714553886212, 'penalty': 'l1'},\n",
       " mean: 0.80315, std: 0.00690, params: {'C': 1.962714553886212, 'penalty': 'l2'},\n",
       " mean: 0.78846, std: 0.00730, params: {'C': 2.3097843187477425, 'penalty': 'l1'},\n",
       " mean: 0.80285, std: 0.00839, params: {'C': 2.3097843187477425, 'penalty': 'l2'},\n",
       " mean: 0.79194, std: 0.00691, params: {'C': 2.7182269518353372, 'penalty': 'l1'},\n",
       " mean: 0.80118, std: 0.00736, params: {'C': 2.7182269518353372, 'penalty': 'l2'},\n",
       " mean: 0.79300, std: 0.00831, params: {'C': 3.198895109691398, 'penalty': 'l1'},\n",
       " mean: 0.80194, std: 0.00728, params: {'C': 3.198895109691398, 'penalty': 'l2'},\n",
       " mean: 0.79300, std: 0.00701, params: {'C': 3.7645605404281284, 'penalty': 'l1'},\n",
       " mean: 0.80088, std: 0.00877, params: {'C': 3.7645605404281284, 'penalty': 'l2'},\n",
       " mean: 0.79255, std: 0.00798, params: {'C': 4.430253439574549, 'penalty': 'l1'},\n",
       " mean: 0.79967, std: 0.00890, params: {'C': 4.430253439574549, 'penalty': 'l2'},\n",
       " mean: 0.79073, std: 0.00804, params: {'C': 5.21366181472805, 'penalty': 'l1'},\n",
       " mean: 0.79936, std: 0.00874, params: {'C': 5.21366181472805, 'penalty': 'l2'},\n",
       " mean: 0.79013, std: 0.00860, params: {'C': 6.135601470457586, 'penalty': 'l1'},\n",
       " mean: 0.79861, std: 0.00931, params: {'C': 6.135601470457586, 'penalty': 'l2'},\n",
       " mean: 0.78861, std: 0.00803, params: {'C': 7.220569101343777, 'penalty': 'l1'},\n",
       " mean: 0.79861, std: 0.00858, params: {'C': 7.220569101343777, 'penalty': 'l2'},\n",
       " mean: 0.78846, std: 0.00768, params: {'C': 8.497393189292689, 'penalty': 'l1'},\n",
       " mean: 0.79800, std: 0.00801, params: {'C': 8.497393189292689, 'penalty': 'l2'},\n",
       " mean: 0.78680, std: 0.00746, params: {'C': 10.0, 'penalty': 'l1'},\n",
       " mean: 0.79694, std: 0.00859, params: {'C': 10.0, 'penalty': 'l2'}]"
      ]
     },
     "execution_count": 48,
     "metadata": {},
     "output_type": "execute_result"
    }
   ],
   "source": [
    "log_grid.grid_scores_"
   ]
  },
  {
   "cell_type": "markdown",
   "metadata": {},
   "source": [
    "**Scoring LogisticRegression**"
   ]
  },
  {
   "cell_type": "code",
   "execution_count": 27,
   "metadata": {},
   "outputs": [
    {
     "data": {
      "text/plain": [
       "(0.8687159297395518, 0.9099030890369473, 0.9364021804966687)"
      ]
     },
     "execution_count": 27,
     "metadata": {},
     "output_type": "execute_result"
    }
   ],
   "source": [
    "log_grid.score(X_train, y_train), log_grid_full.score(X_train_full, y_train_full), log_grid_full_2.score(X_train_full_2, y_train_full_2)"
   ]
  },
  {
   "cell_type": "code",
   "execution_count": 28,
   "metadata": {},
   "outputs": [
    {
     "data": {
      "text/plain": [
       "(0.804268846503179, 0.8083560399636693, 0.8169845594913715)"
      ]
     },
     "execution_count": 28,
     "metadata": {},
     "output_type": "execute_result"
    }
   ],
   "source": [
    "log_grid.score(X_test, y_test), log_grid_full.score(X_test_full, y_test_full), log_grid_full_2.score(X_test_full_2, y_test_full_2)"
   ]
  },
  {
   "cell_type": "markdown",
   "metadata": {},
   "source": [
    "**Analysis:** The scores are both much better with logistic regrssion, and they're also less overfit. I will consider bringing this one into production. Before making my final decision, however, I'd like to make sure that I've explored utilizing an ensemble method. These methods [generally](https://blog.statsbot.co/ensemble-learning-d1dcd548e936) arrive at a better predictive performance as compared to a single model. I'll start with Random Forest."
   ]
  },
  {
   "cell_type": "markdown",
   "metadata": {},
   "source": [
    "### Using Random Forest"
   ]
  },
  {
   "cell_type": "markdown",
   "metadata": {},
   "source": [
    "**Initializing Random Forest through `GridSearch CV`**"
   ]
  },
  {
   "cell_type": "code",
   "execution_count": 31,
   "metadata": {},
   "outputs": [
    {
     "data": {
      "text/plain": [
       "(31.622776601683793, 59.0592922409336, 64.5600495662759)"
      ]
     },
     "execution_count": 31,
     "metadata": {},
     "output_type": "execute_result"
    }
   ],
   "source": [
    "np.sqrt(1000), np.sqrt(3488), np.sqrt(4168)"
   ]
  },
  {
   "cell_type": "code",
   "execution_count": 38,
   "metadata": {},
   "outputs": [],
   "source": [
    "rf_grid = GridSearchCV(RandomForestClassifier(min_samples_leaf=3, random_state=42), {'n_estimators': [150, 170, 190],'warm_start': [True, False]})\n",
    "rf_grid_full = GridSearchCV(RandomForestClassifier(min_samples_leaf=3, random_state=42), {'n_estimators': [110, 130, 150],'warm_start': [True, False]})\n",
    "rf_grid_full_2 = GridSearchCV(RandomForestClassifier(min_samples_leaf=3, random_state=42), {'n_estimators': [150, 170, 190],'warm_start': [True, False]})"
   ]
  },
  {
   "cell_type": "markdown",
   "metadata": {},
   "source": [
    "**CAUTION: Please note that the below model fitting cell is comprised of 3 gridsearches! Run at your own risk**"
   ]
  },
  {
   "cell_type": "code",
   "execution_count": 39,
   "metadata": {},
   "outputs": [],
   "source": [
    "rf_grid.fit(X_train, y_train), rf_grid_full.fit(X_train_full, y_train_full), rf_grid_full_2.fit(X_train_full_2, y_train_full_2);"
   ]
  },
  {
   "cell_type": "code",
   "execution_count": 41,
   "metadata": {},
   "outputs": [
    {
     "data": {
      "text/plain": [
       "(0.7690793458509994, 0.7718049666868565, 0.7774076317383404)"
      ]
     },
     "execution_count": 41,
     "metadata": {},
     "output_type": "execute_result"
    }
   ],
   "source": [
    "rf_grid.best_score_, rf_grid_full.best_score_, rf_grid_full_2.best_score_"
   ]
  },
  {
   "cell_type": "code",
   "execution_count": 43,
   "metadata": {},
   "outputs": [
    {
     "data": {
      "text/plain": [
       "({'n_estimators': 150, 'warm_start': True},\n",
       " {'n_estimators': 110, 'warm_start': True},\n",
       " {'n_estimators': 150, 'warm_start': True})"
      ]
     },
     "execution_count": 43,
     "metadata": {},
     "output_type": "execute_result"
    }
   ],
   "source": [
    "rf_grid.best_params_, rf_grid_full.best_params_, rf_grid_full_2.best_params_"
   ]
  },
  {
   "cell_type": "markdown",
   "metadata": {},
   "source": [
    "In the process of developing this ensemble model, I tried tuning the following hyperparameters:\n",
    "- `n_estimators`\n",
    "- `max_features`\n",
    "- `min_samples_leaf`\n",
    "- `warm_start`"
   ]
  },
  {
   "cell_type": "code",
   "execution_count": 44,
   "metadata": {},
   "outputs": [
    {
     "data": {
      "text/plain": [
       "(0.9959115687462144, 0.8961235614778922, 0.9017262265293762)"
      ]
     },
     "execution_count": 44,
     "metadata": {},
     "output_type": "execute_result"
    }
   ],
   "source": [
    "rf_grid.score(X_train, y_train), rf_grid_full.score(X_train_full, y_train_full), rf_grid_full_2.score(X_train_full_2, y_train_full_2)"
   ]
  },
  {
   "cell_type": "code",
   "execution_count": 45,
   "metadata": {},
   "outputs": [
    {
     "data": {
      "text/plain": [
       "(0.7620345140781108, 0.7806539509536785, 0.790644868301544)"
      ]
     },
     "execution_count": 45,
     "metadata": {},
     "output_type": "execute_result"
    }
   ],
   "source": [
    "rf_grid.score(X_test, y_test), rf_grid_full.score(X_test_full, y_test_full), rf_grid_full_2.score(X_test_full_2, y_test_full_2)"
   ]
  },
  {
   "cell_type": "markdown",
   "metadata": {},
   "source": [
    "**Analysis**: I'm surprised at just how overfit each model is, especially the model which utilzed SVD. The SVD dataset contains fewer than 1/3rd of the features within the other two datasets, yet going through several gridsearches still landed it with the greatest variance between training and test scores.\n",
    "\n",
    "I had assumed a greater number of features would lead to a more overfit Random Forest model, yet it turns out that the greatest number of features resulted in the *least* overfit model."
   ]
  },
  {
   "cell_type": "markdown",
   "metadata": {},
   "source": [
    "### Boosting My Best Model\n",
    "\n",
    "Now that I've iterated through a number of different grid searches, I'd like to try boosting my most successful base model to see if there's any additional improvement to be gained."
   ]
  },
  {
   "cell_type": "code",
   "execution_count": 46,
   "metadata": {},
   "outputs": [],
   "source": [
    "ad = AdaBoostClassifier(base_estimator=LogisticRegression(C=2.7182269518353372, class_weight=None, dual=False,fit_intercept=True, intercept_scaling=1, \n",
    "                                                          max_iter=100,multi_class='ovr', n_jobs=1, penalty='l2', random_state=None,solver='liblinear', \n",
    "                                                          tol=0.0001, verbose=0, warm_start=False))"
   ]
  },
  {
   "cell_type": "code",
   "execution_count": 47,
   "metadata": {},
   "outputs": [
    {
     "data": {
      "text/plain": [
       "AdaBoostClassifier(algorithm='SAMME.R',\n",
       "          base_estimator=LogisticRegression(C=2.7182269518353372, class_weight=None, dual=False,\n",
       "          fit_intercept=True, intercept_scaling=1, max_iter=100,\n",
       "          multi_class='ovr', n_jobs=1, penalty='l2', random_state=None,\n",
       "          solver='liblinear', tol=0.0001, verbose=0, warm_start=False),\n",
       "          learning_rate=1.0, n_estimators=50, random_state=None)"
      ]
     },
     "execution_count": 47,
     "metadata": {},
     "output_type": "execute_result"
    }
   ],
   "source": [
    "ad.fit(X_train_full_2, y_train_full_2)"
   ]
  },
  {
   "cell_type": "code",
   "execution_count": 48,
   "metadata": {},
   "outputs": [
    {
     "data": {
      "text/plain": [
       "0.5854027861901878"
      ]
     },
     "execution_count": 48,
     "metadata": {},
     "output_type": "execute_result"
    }
   ],
   "source": [
    "ad.score(X_train_full_2, y_train_full_2)"
   ]
  },
  {
   "cell_type": "code",
   "execution_count": 49,
   "metadata": {},
   "outputs": [
    {
     "data": {
      "text/plain": [
       "0.5749318801089919"
      ]
     },
     "execution_count": 49,
     "metadata": {},
     "output_type": "execute_result"
    }
   ],
   "source": [
    "ad.score(X_test_full_2, y_test_full_2)"
   ]
  },
  {
   "cell_type": "markdown",
   "metadata": {},
   "source": [
    "**Analysis**\n",
    "\n",
    "Using adaptive boosting on my best scored model resulted in a much less accurate model than before. I will not use this any further."
   ]
  },
  {
   "cell_type": "markdown",
   "metadata": {},
   "source": [
    "### My Best Model\n",
    "\n",
    "The top model for classifying headlines as either Satirical or Sensational appears to be a Logarithmic regression model. Let's look further at how the model performed with a confusion matrix."
   ]
  },
  {
   "cell_type": "code",
   "execution_count": 92,
   "metadata": {},
   "outputs": [
    {
     "data": {
      "image/png": "[encoded data removed]",
      "text/plain": [
       "<Figure size 1800x1440 with 2 Axes>"
      ]
     },
     "metadata": {},
     "output_type": "display_data"
    }
   ],
   "source": [
    "yhat = log_grid_full_2.predict(X_test_full_2)\n",
    "plt.figure(figsize=(25,20))\n",
    "ax = sns.heatmap(confusion_matrix(y_test_full_2, yhat), annot=True, annot_kws={'fontsize':40}, fmt=\"d\", cmap=\"Greens\", \n",
    "            yticklabels=['Predicted False', 'Predicted True'], xticklabels=['Actual False', 'Actual True'],\n",
    "            cbar_kws={})\n",
    "cax = plt.gcf().axes[-1]\n",
    "cax.tick_params(labelsize=20)\n",
    "plt.xticks(fontsize=30)\n",
    "plt.yticks(fontsize=30, va='center');\n",
    "# plt.savefig('../images/cm.png')"
   ]
  },
  {
   "cell_type": "markdown",
   "metadata": {},
   "source": [
    "**Analysis**: I think this is great performance for a logarithmic model that didn't feature any SVD, wasn't lemmatized, and incorporated multi-ngrams. Each of the previously mentioned steps is generally seen as a *worthwhile* adjustment to make during preprocessing.\n",
    "\n",
    "**Select Metrics**:\n",
    "- An overall accuracy of: $$\\frac{1799}{2202}$$\n",
    "- Sensitivity of: $$\\frac{798}{977}$$\n",
    "\n",
    "Since we're not scoring on anything *actually important*, the most important metric here is accuracy. And, an accuracy of ~81.7% is good enough to move to production (which, in this instance, is just predicting on new headlines)."
   ]
  },
  {
   "cell_type": "markdown",
   "metadata": {},
   "source": [
    "**Conclusion:** I was a little surprised, thinking that perhaps a model based on a headlines' most similar neighbors would score better. I also beleived that an ensemble model would fare better, considering the generally accepted viewpoint that they're superior to single models. It's possible that I didn't tune the Random Forest models enough, though I did run through a number of different hyperparameters that I assumed would've had significant effects.\n",
    "\n",
    "Nonetheless, I'll move the logarithmic model through to production, where I'll test it against 10 new posts."
   ]
  },
  {
   "cell_type": "markdown",
   "metadata": {},
   "source": [
    "**Pickling model**"
   ]
  },
  {
   "cell_type": "code",
   "execution_count": 50,
   "metadata": {},
   "outputs": [],
   "source": [
    "with open('../pickle/log_model.pkl', 'wb') as f:\n",
    "    pickle.dump(log_grid_full_2, f)"
   ]
  },
  {
   "cell_type": "markdown",
   "metadata": {},
   "source": [
    "**Go To: 04_model_testing**"
   ]
  }
 ],
 "metadata": {
  "kernelspec": {
   "display_name": "Python 3",
   "language": "python",
   "name": "python3"
  },
  "language_info": {
   "codemirror_mode": {
    "name": "ipython",
    "version": 3
   },
   "file_extension": ".py",
   "mimetype": "text/x-python",
   "name": "python",
   "nbconvert_exporter": "python",
   "pygments_lexer": "ipython3",
   "version": "3.6.5"
  }
 },
 "nbformat": 4,
 "nbformat_minor": 2
}
