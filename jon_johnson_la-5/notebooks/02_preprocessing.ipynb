{
 "cells": [
  {
   "cell_type": "markdown",
   "metadata": {},
   "source": [
    "## 02_Preprocessing\n",
    "\n",
    "**Description:** Loading in subreddit post data, conducting some general Exploratory Data Analysis (EDA), and readying the data for fitting models."
   ]
  },
  {
   "cell_type": "code",
   "execution_count": 116,
   "metadata": {},
   "outputs": [],
   "source": [
    "import json\n",
    "import pandas as pd\n",
    "import csv\n",
    "import pickle\n",
    "import matplotlib.pyplot as plt\n",
    "import numpy as np\n",
    "import seaborn as sns\n",
    "import re\n",
    "from sklearn.feature_extraction.text import TfidfVectorizer, CountVectorizer\n",
    "from sklearn.decomposition import TruncatedSVD\n",
    "from sklearn.metrics.pairwise import cosine_similarity\n",
    "from sklearn.neighbors import KNeighborsClassifier\n",
    "from sklearn.model_selection import train_test_split\n",
    "from sklearn.grid_search import GridSearchCV\n",
    "from sklearn.feature_extraction import stop_words\n",
    "from nltk.tokenize import RegexpTokenizer"
   ]
  },
  {
   "cell_type": "markdown",
   "metadata": {},
   "source": [
    "**Loading in Reddit Posts**"
   ]
  },
  {
   "cell_type": "code",
   "execution_count": 2,
   "metadata": {},
   "outputs": [],
   "source": [
    "with open('../data/nto_t.pkl', 'rb') as f:\n",
    "    nto_t = pickle.load(f)\n",
    "with open('../data/to_t.pkl', 'rb') as f:\n",
    "    to_t = pickle.load(f)"
   ]
  },
  {
   "cell_type": "markdown",
   "metadata": {},
   "source": [
    "**Deleting Duplicates & Merging Titles into single DataFrame**"
   ]
  },
  {
   "cell_type": "code",
   "execution_count": 3,
   "metadata": {},
   "outputs": [
    {
     "name": "stdout",
     "output_type": "stream",
     "text": [
      "<class 'pandas.core.frame.DataFrame'>\n",
      "Int64Index: 4086 entries, 0 to 4999\n",
      "Data columns (total 2 columns):\n",
      "Title    4086 non-null object\n",
      "sub      4086 non-null int64\n",
      "dtypes: int64(1), object(1)\n",
      "memory usage: 95.8+ KB\n",
      "<class 'pandas.core.frame.DataFrame'>\n",
      "Int64Index: 4720 entries, 0 to 4999\n",
      "Data columns (total 2 columns):\n",
      "Title    4720 non-null object\n",
      "sub      4720 non-null int64\n",
      "dtypes: int64(1), object(1)\n",
      "memory usage: 110.6+ KB\n"
     ]
    },
    {
     "data": {
      "text/plain": [
       "(None, None)"
      ]
     },
     "execution_count": 3,
     "metadata": {},
     "output_type": "execute_result"
    }
   ],
   "source": [
    "nto_t.drop_duplicates(inplace=True)\n",
    "to_t.drop_duplicates(inplace=True)\n",
    "nto_t.info(), to_t.info()"
   ]
  },
  {
   "cell_type": "code",
   "execution_count": 4,
   "metadata": {},
   "outputs": [
    {
     "data": {
      "text/html": [
       "<div>\n",
       "<style scoped>\n",
       "    .dataframe tbody tr th:only-of-type {\n",
       "        vertical-align: middle;\n",
       "    }\n",
       "\n",
       "    .dataframe tbody tr th {\n",
       "        vertical-align: top;\n",
       "    }\n",
       "\n",
       "    .dataframe thead th {\n",
       "        text-align: right;\n",
       "    }\n",
       "</style>\n",
       "<table border=\"1\" class=\"dataframe\">\n",
       "  <thead>\n",
       "    <tr style=\"text-align: right;\">\n",
       "      <th></th>\n",
       "      <th>Title</th>\n",
       "      <th>sub</th>\n",
       "    </tr>\n",
       "  </thead>\n",
       "  <tbody>\n",
       "    <tr>\n",
       "      <th>0</th>\n",
       "      <td>Snapchat map mislabeled New York City as \"Jewt...</td>\n",
       "      <td>1</td>\n",
       "    </tr>\n",
       "    <tr>\n",
       "      <th>1</th>\n",
       "      <td>Baby Mayor Kahn balloon to fly over Parliament...</td>\n",
       "      <td>1</td>\n",
       "    </tr>\n",
       "    <tr>\n",
       "      <th>2</th>\n",
       "      <td>Love Lorn Dolphin \"Zafar\" Causes French Beach Ban</td>\n",
       "      <td>1</td>\n",
       "    </tr>\n",
       "    <tr>\n",
       "      <th>3</th>\n",
       "      <td>Permission denied for PETA to honor dead lobst...</td>\n",
       "      <td>1</td>\n",
       "    </tr>\n",
       "    <tr>\n",
       "      <th>4</th>\n",
       "      <td>This guy wanted his head to look like a skull</td>\n",
       "      <td>1</td>\n",
       "    </tr>\n",
       "  </tbody>\n",
       "</table>\n",
       "</div>"
      ],
      "text/plain": [
       "                                               Title  sub\n",
       "0  Snapchat map mislabeled New York City as \"Jewt...    1\n",
       "1  Baby Mayor Kahn balloon to fly over Parliament...    1\n",
       "2  Love Lorn Dolphin \"Zafar\" Causes French Beach Ban    1\n",
       "3  Permission denied for PETA to honor dead lobst...    1\n",
       "4      This guy wanted his head to look like a skull    1"
      ]
     },
     "execution_count": 4,
     "metadata": {},
     "output_type": "execute_result"
    }
   ],
   "source": [
    "nto_t.head()"
   ]
  },
  {
   "cell_type": "code",
   "execution_count": 5,
   "metadata": {},
   "outputs": [
    {
     "data": {
      "text/html": [
       "<div>\n",
       "<style scoped>\n",
       "    .dataframe tbody tr th:only-of-type {\n",
       "        vertical-align: middle;\n",
       "    }\n",
       "\n",
       "    .dataframe tbody tr th {\n",
       "        vertical-align: top;\n",
       "    }\n",
       "\n",
       "    .dataframe thead th {\n",
       "        text-align: right;\n",
       "    }\n",
       "</style>\n",
       "<table border=\"1\" class=\"dataframe\">\n",
       "  <thead>\n",
       "    <tr style=\"text-align: right;\">\n",
       "      <th></th>\n",
       "      <th>Title</th>\n",
       "      <th>sub</th>\n",
       "    </tr>\n",
       "  </thead>\n",
       "  <tbody>\n",
       "    <tr>\n",
       "      <th>0</th>\n",
       "      <td>NASCAR Race Stops To Wait For Family Of Ducks ...</td>\n",
       "      <td>0</td>\n",
       "    </tr>\n",
       "    <tr>\n",
       "      <th>1</th>\n",
       "      <td>Evolution Definitively Proven As Scientists Ca...</td>\n",
       "      <td>0</td>\n",
       "    </tr>\n",
       "    <tr>\n",
       "      <th>2</th>\n",
       "      <td>Trump Disapproval Rating Reaches All-Time None...</td>\n",
       "      <td>0</td>\n",
       "    </tr>\n",
       "    <tr>\n",
       "      <th>3</th>\n",
       "      <td>Trump Teeters On White House Ledge Weighing Pr...</td>\n",
       "      <td>0</td>\n",
       "    </tr>\n",
       "    <tr>\n",
       "      <th>4</th>\n",
       "      <td>Eminem Horrified Upon Being Informed That ‘Fag...</td>\n",
       "      <td>0</td>\n",
       "    </tr>\n",
       "  </tbody>\n",
       "</table>\n",
       "</div>"
      ],
      "text/plain": [
       "                                               Title  sub\n",
       "0  NASCAR Race Stops To Wait For Family Of Ducks ...    0\n",
       "1  Evolution Definitively Proven As Scientists Ca...    0\n",
       "2  Trump Disapproval Rating Reaches All-Time None...    0\n",
       "3  Trump Teeters On White House Ledge Weighing Pr...    0\n",
       "4  Eminem Horrified Upon Being Informed That ‘Fag...    0"
      ]
     },
     "execution_count": 5,
     "metadata": {},
     "output_type": "execute_result"
    }
   ],
   "source": [
    "to_t.head()"
   ]
  },
  {
   "cell_type": "code",
   "execution_count": 6,
   "metadata": {},
   "outputs": [],
   "source": [
    "df = pd.concat([nto_t, to_t], ignore_index=True)"
   ]
  },
  {
   "cell_type": "code",
   "execution_count": 7,
   "metadata": {},
   "outputs": [
    {
     "name": "stdout",
     "output_type": "stream",
     "text": [
      "<class 'pandas.core.frame.DataFrame'>\n",
      "RangeIndex: 8806 entries, 0 to 8805\n",
      "Data columns (total 2 columns):\n",
      "Title    8806 non-null object\n",
      "sub      8806 non-null int64\n",
      "dtypes: int64(1), object(1)\n",
      "memory usage: 137.7+ KB\n"
     ]
    }
   ],
   "source": [
    "df.info()"
   ]
  },
  {
   "cell_type": "code",
   "execution_count": 74,
   "metadata": {},
   "outputs": [
    {
     "data": {
      "text/plain": [
       "Title     English football team pick a literal boiler as...\n",
       "sub                                                       1\n",
       "tokens    [english, football, team, pick, a, literal, bo...\n",
       "length                                                   60\n",
       "Name: 4085, dtype: object"
      ]
     },
     "execution_count": 74,
     "metadata": {},
     "output_type": "execute_result"
    }
   ],
   "source": [
    "df.iloc[4085, ]"
   ]
  },
  {
   "cell_type": "markdown",
   "metadata": {},
   "source": [
    "**Pickling Merged DataFrame - Just in Case**"
   ]
  },
  {
   "cell_type": "code",
   "execution_count": 8,
   "metadata": {},
   "outputs": [],
   "source": [
    "# with open('../data/df.pkl', 'wb') as f:\n",
    "#     pickle.dump(df, f)"
   ]
  },
  {
   "cell_type": "markdown",
   "metadata": {},
   "source": [
    "### EDA"
   ]
  },
  {
   "cell_type": "markdown",
   "metadata": {},
   "source": [
    "**Getting Rid of Punctuation**"
   ]
  },
  {
   "cell_type": "code",
   "execution_count": 9,
   "metadata": {},
   "outputs": [],
   "source": [
    "titles = [re.sub(\"[^a-zA-Z]\",\" \",title) for title in df['Title']]"
   ]
  },
  {
   "cell_type": "markdown",
   "metadata": {},
   "source": [
    "**Preprocessing via NLTK**"
   ]
  },
  {
   "cell_type": "code",
   "execution_count": 10,
   "metadata": {},
   "outputs": [],
   "source": [
    "tokenizer = RegexpTokenizer(r'\\w+')\n",
    "title_tokens = [tokenizer.tokenize(title.lower()) for title in titles]\n",
    "df['tokens'] = title_tokens"
   ]
  },
  {
   "cell_type": "markdown",
   "metadata": {},
   "source": [
    "**Overview of My Dataset**"
   ]
  },
  {
   "cell_type": "code",
   "execution_count": 11,
   "metadata": {},
   "outputs": [],
   "source": [
    "all_words = []\n",
    "\n",
    "for title in title_tokens:\n",
    "    for t in title:\n",
    "        all_words.append(t)"
   ]
  },
  {
   "cell_type": "code",
   "execution_count": 12,
   "metadata": {},
   "outputs": [],
   "source": [
    "VOCAB = set(all_words)"
   ]
  },
  {
   "cell_type": "code",
   "execution_count": 13,
   "metadata": {},
   "outputs": [],
   "source": [
    "df['length'] = [len(title) for title in df['Title']]"
   ]
  },
  {
   "cell_type": "code",
   "execution_count": 14,
   "metadata": {},
   "outputs": [
    {
     "data": {
      "text/html": [
       "<div>\n",
       "<style scoped>\n",
       "    .dataframe tbody tr th:only-of-type {\n",
       "        vertical-align: middle;\n",
       "    }\n",
       "\n",
       "    .dataframe tbody tr th {\n",
       "        vertical-align: top;\n",
       "    }\n",
       "\n",
       "    .dataframe thead th {\n",
       "        text-align: right;\n",
       "    }\n",
       "</style>\n",
       "<table border=\"1\" class=\"dataframe\">\n",
       "  <thead>\n",
       "    <tr style=\"text-align: right;\">\n",
       "      <th></th>\n",
       "      <th>Title</th>\n",
       "      <th>sub</th>\n",
       "      <th>tokens</th>\n",
       "      <th>length</th>\n",
       "    </tr>\n",
       "  </thead>\n",
       "  <tbody>\n",
       "    <tr>\n",
       "      <th>0</th>\n",
       "      <td>Snapchat map mislabeled New York City as \"Jewt...</td>\n",
       "      <td>1</td>\n",
       "      <td>[snapchat, map, mislabeled, new, york, city, a...</td>\n",
       "      <td>54</td>\n",
       "    </tr>\n",
       "    <tr>\n",
       "      <th>1</th>\n",
       "      <td>Baby Mayor Kahn balloon to fly over Parliament...</td>\n",
       "      <td>1</td>\n",
       "      <td>[baby, mayor, kahn, balloon, to, fly, over, pa...</td>\n",
       "      <td>51</td>\n",
       "    </tr>\n",
       "    <tr>\n",
       "      <th>2</th>\n",
       "      <td>Love Lorn Dolphin \"Zafar\" Causes French Beach Ban</td>\n",
       "      <td>1</td>\n",
       "      <td>[love, lorn, dolphin, zafar, causes, french, b...</td>\n",
       "      <td>49</td>\n",
       "    </tr>\n",
       "    <tr>\n",
       "      <th>3</th>\n",
       "      <td>Permission denied for PETA to honor dead lobst...</td>\n",
       "      <td>1</td>\n",
       "      <td>[permission, denied, for, peta, to, honor, dea...</td>\n",
       "      <td>74</td>\n",
       "    </tr>\n",
       "    <tr>\n",
       "      <th>4</th>\n",
       "      <td>This guy wanted his head to look like a skull</td>\n",
       "      <td>1</td>\n",
       "      <td>[this, guy, wanted, his, head, to, look, like,...</td>\n",
       "      <td>45</td>\n",
       "    </tr>\n",
       "  </tbody>\n",
       "</table>\n",
       "</div>"
      ],
      "text/plain": [
       "                                               Title  sub  \\\n",
       "0  Snapchat map mislabeled New York City as \"Jewt...    1   \n",
       "1  Baby Mayor Kahn balloon to fly over Parliament...    1   \n",
       "2  Love Lorn Dolphin \"Zafar\" Causes French Beach Ban    1   \n",
       "3  Permission denied for PETA to honor dead lobst...    1   \n",
       "4      This guy wanted his head to look like a skull    1   \n",
       "\n",
       "                                              tokens  length  \n",
       "0  [snapchat, map, mislabeled, new, york, city, a...      54  \n",
       "1  [baby, mayor, kahn, balloon, to, fly, over, pa...      51  \n",
       "2  [love, lorn, dolphin, zafar, causes, french, b...      49  \n",
       "3  [permission, denied, for, peta, to, honor, dea...      74  \n",
       "4  [this, guy, wanted, his, head, to, look, like,...      45  "
      ]
     },
     "execution_count": 14,
     "metadata": {},
     "output_type": "execute_result"
    }
   ],
   "source": [
    "df.head()"
   ]
  },
  {
   "cell_type": "code",
   "execution_count": 15,
   "metadata": {},
   "outputs": [
    {
     "name": "stdout",
     "output_type": "stream",
     "text": [
      "My dataset consists of 119331 words, and a unique vocabulary of 15102 words\n"
     ]
    }
   ],
   "source": [
    "print(\"My dataset consists of {} words, and a unique vocabulary of {} words\".format(len(all_words), len(VOCAB)))"
   ]
  },
  {
   "cell_type": "code",
   "execution_count": 16,
   "metadata": {},
   "outputs": [
    {
     "data": {
      "text/plain": [
       "(80.49954576425165, 72.08590308370044, 87.78305084745763)"
      ]
     },
     "execution_count": 16,
     "metadata": {},
     "output_type": "execute_result"
    }
   ],
   "source": [
    "df['length'].mean(), df['length'][df['sub'] == 1].mean(), df['length'][df['sub'] == 0].mean()"
   ]
  },
  {
   "cell_type": "markdown",
   "metadata": {},
   "source": [
    "**Further Analysis**\n",
    "\n",
    "With 8806 headlines, that gives us an average word count of ~13.55 per headline, and an average character count of ~80.6. Interstingly enough, the average character length is quite different between The Onion, and non-Onion headlines. Non-Onion headlines average ~15 fewer characters compared to The Onion. Hopefully this will help my model differentiate between sensational and satirical posts."
   ]
  },
  {
   "cell_type": "markdown",
   "metadata": {},
   "source": [
    "**Examining General Word Counts**"
   ]
  },
  {
   "cell_type": "code",
   "execution_count": 17,
   "metadata": {},
   "outputs": [],
   "source": [
    "cv = CountVectorizer()"
   ]
  },
  {
   "cell_type": "code",
   "execution_count": 18,
   "metadata": {},
   "outputs": [
    {
     "data": {
      "text/plain": [
       "CountVectorizer(analyzer='word', binary=False, decode_error='strict',\n",
       "        dtype=<class 'numpy.int64'>, encoding='utf-8', input='content',\n",
       "        lowercase=True, max_df=1.0, max_features=None, min_df=1,\n",
       "        ngram_range=(1, 1), preprocessor=None, stop_words=None,\n",
       "        strip_accents=None, token_pattern='(?u)\\\\b\\\\w\\\\w+\\\\b',\n",
       "        tokenizer=None, vocabulary=None)"
      ]
     },
     "execution_count": 18,
     "metadata": {},
     "output_type": "execute_result"
    }
   ],
   "source": [
    "cv.fit(all_words)"
   ]
  },
  {
   "cell_type": "code",
   "execution_count": 19,
   "metadata": {},
   "outputs": [],
   "source": [
    "word_vector = cv.transform(all_words)"
   ]
  },
  {
   "cell_type": "code",
   "execution_count": 20,
   "metadata": {},
   "outputs": [],
   "source": [
    "word_df = pd.DataFrame(word_vector.toarray(), columns=cv.get_feature_names())"
   ]
  },
  {
   "cell_type": "code",
   "execution_count": 21,
   "metadata": {},
   "outputs": [],
   "source": [
    "word_counts = word_df.sum(axis=0)"
   ]
  },
  {
   "cell_type": "markdown",
   "metadata": {},
   "source": [
    "**Highest Count Words (without Stop Words)**"
   ]
  },
  {
   "cell_type": "code",
   "execution_count": 22,
   "metadata": {},
   "outputs": [
    {
     "data": {
      "text/plain": [
       "to       3784\n",
       "the      2483\n",
       "of       2316\n",
       "in       1878\n",
       "for      1371\n",
       "on       1052\n",
       "and      1051\n",
       "with      889\n",
       "is        770\n",
       "after     697\n",
       "man       635\n",
       "out       614\n",
       "that      603\n",
       "trump     600\n",
       "by        588\n",
       "it        583\n",
       "have      566\n",
       "you       557\n",
       "at        547\n",
       "what      530\n",
       "this      528\n",
       "his       518\n",
       "from      497\n",
       "he        496\n",
       "new       462\n",
       "dtype: int64"
      ]
     },
     "execution_count": 22,
     "metadata": {},
     "output_type": "execute_result"
    }
   ],
   "source": [
    "word_counts.sort_values(ascending=False).head(25)"
   ]
  },
  {
   "cell_type": "markdown",
   "metadata": {},
   "source": [
    "It appears that most of my particularly common words would also be stop words as well. I'll try running this listing against my list of stop words, to see if I'm able to get a more informative list"
   ]
  },
  {
   "cell_type": "markdown",
   "metadata": {},
   "source": [
    "**Word Counts (with Stop Words)**"
   ]
  },
  {
   "cell_type": "code",
   "execution_count": 23,
   "metadata": {},
   "outputs": [],
   "source": [
    "cv_s = CountVectorizer(stop_words='english')\n",
    "\n",
    "word_vector_stop = cv_s.fit_transform(all_words)\n",
    "\n",
    "word_df_s = pd.DataFrame(word_vector_stop.toarray(), columns=cv_s.get_feature_names())\n",
    "word_counts_stop = word_df_s.sum(axis=0)"
   ]
  },
  {
   "cell_type": "code",
   "execution_count": 24,
   "metadata": {},
   "outputs": [
    {
     "data": {
      "text/plain": [
       "man          635\n",
       "trump        600\n",
       "new          462\n",
       "life         416\n",
       "say          391\n",
       "news         359\n",
       "just         315\n",
       "woman        305\n",
       "says         266\n",
       "police       243\n",
       "said         219\n",
       "people       218\n",
       "year         214\n",
       "old          202\n",
       "video        185\n",
       "like         172\n",
       "white        170\n",
       "report       163\n",
       "day          150\n",
       "time         150\n",
       "sex          148\n",
       "house        148\n",
       "questions    143\n",
       "years        143\n",
       "know         139\n",
       "dtype: int64"
      ]
     },
     "execution_count": 24,
     "metadata": {},
     "output_type": "execute_result"
    }
   ],
   "source": [
    "wc = word_counts_stop.sort_values(ascending=False).head(25)\n",
    "wc"
   ]
  },
  {
   "cell_type": "code",
   "execution_count": 25,
   "metadata": {},
   "outputs": [],
   "source": [
    "index_list = list(wc.index)"
   ]
  },
  {
   "cell_type": "code",
   "execution_count": 26,
   "metadata": {},
   "outputs": [],
   "source": [
    "wc_df = pd.concat([wc, pd.Series(index_list, index=wc.index)], axis=1)\n",
    "wc_df.rename({0:'Count', 1:'Term'}, axis=1, inplace=True)"
   ]
  },
  {
   "cell_type": "markdown",
   "metadata": {},
   "source": [
    "**Visualizing Word Counts (with Stop Words)**"
   ]
  },
  {
   "cell_type": "code",
   "execution_count": 27,
   "metadata": {},
   "outputs": [
    {
     "data": {
      "text/plain": [
       "Text(0,0.5,'')"
      ]
     },
     "execution_count": 27,
     "metadata": {},
     "output_type": "execute_result"
    },
    {
     "data": {
      "image/png": "[encoded data removed]",
      "text/plain": [
       "<Figure size 1800x720 with 1 Axes>"
      ]
     },
     "metadata": {},
     "output_type": "display_data"
    }
   ],
   "source": [
    "sns.set_style(\"whitegrid\")\n",
    "plt.figure(figsize=(25,10))\n",
    "plt.xticks(fontsize=20)\n",
    "plt.yticks(fontsize=25)\n",
    "sns.barplot(data=wc_df, x='Count', y='Term', orient='h', color='#63d297', saturation=1)\n",
    "plt.xlabel(s='')\n",
    "plt.ylabel(s='')\n",
    "# plt.savefig('../images/top_terms.png')"
   ]
  },
  {
   "cell_type": "markdown",
   "metadata": {},
   "source": [
    "This listing feels like what you'd see in a 'most popular news stories feature these words' list. That is, what you'd see with the inclusion of terms like \"trump\", \"police\", and \"sex\" (i.e., subjects that may be polarizing). Beyond those words, we see common english nouns like 'man', 'woman', 'video', 'people', etc. What's most surprising about this list is the inclusion of \"news\". I'm curious to know what the most common contextual uses for that word in these headlines are."
   ]
  },
  {
   "cell_type": "markdown",
   "metadata": {},
   "source": [
    "**Creating Target Variable**"
   ]
  },
  {
   "cell_type": "code",
   "execution_count": 28,
   "metadata": {},
   "outputs": [],
   "source": [
    "target = df['sub']"
   ]
  },
  {
   "cell_type": "markdown",
   "metadata": {},
   "source": [
    "### Initializing Vectorizer\n",
    "\n",
    "I plan on creating two vectorizers that will actually be run into my model. One featuring an `ngram_range` of (1,1), and another with a range of (1,2), to see if incorporating any phrasing assists in the accuracy of my model. Given the size of each post I'm looking at (~13.55 words), I wouldn't *assume* that there would be much to clean from an increased range, though I don't think it'll hurt to try."
   ]
  },
  {
   "cell_type": "code",
   "execution_count": 29,
   "metadata": {},
   "outputs": [],
   "source": [
    "tfidf = TfidfVectorizer(stop_words='english', min_df=5, max_df=1.0)\n",
    "tfidf_2 = TfidfVectorizer(stop_words='english', min_df=5, max_df=1.0, ngram_range=(1, 2))"
   ]
  },
  {
   "cell_type": "markdown",
   "metadata": {},
   "source": [
    "A minimum document frequency of 5 seems like a good starting point. I'll consider coming back and re-Vectorizing if my model scores are unsatisfactory."
   ]
  },
  {
   "cell_type": "code",
   "execution_count": 30,
   "metadata": {},
   "outputs": [],
   "source": [
    "term_mat = tfidf.fit_transform(df['Title'])\n",
    "term_mat_2 = tfidf_2.fit_transform(df['Title'])"
   ]
  },
  {
   "cell_type": "code",
   "execution_count": 31,
   "metadata": {},
   "outputs": [
    {
     "data": {
      "text/plain": [
       "(3488, 4168)"
      ]
     },
     "execution_count": 31,
     "metadata": {},
     "output_type": "execute_result"
    }
   ],
   "source": [
    "len(tfidf.get_feature_names()), len(tfidf_2.get_feature_names())"
   ]
  },
  {
   "cell_type": "markdown",
   "metadata": {},
   "source": [
    "Both of these numbers seem like an awful lot of features given the size of my dataset. While I still plan on modeling based off of the full datasets, I'll toss my smallest matrix through SVD to retreive the most important values. I believe this will lead to more accurate predictions."
   ]
  },
  {
   "cell_type": "markdown",
   "metadata": {},
   "source": [
    "**Tossing Vectorizers into DataFrame**"
   ]
  },
  {
   "cell_type": "code",
   "execution_count": 32,
   "metadata": {},
   "outputs": [],
   "source": [
    "term_df = pd.SparseDataFrame(term_mat, columns=tfidf.get_feature_names())\n",
    "term_df_2 = pd.SparseDataFrame(term_mat_2, columns=tfidf_2.get_feature_names())"
   ]
  },
  {
   "cell_type": "code",
   "execution_count": 33,
   "metadata": {},
   "outputs": [],
   "source": [
    "term_df.fillna(0, inplace=True)\n",
    "term_df_2.fillna(0, inplace=True)"
   ]
  },
  {
   "cell_type": "markdown",
   "metadata": {},
   "source": [
    "### Initialize SVD"
   ]
  },
  {
   "cell_type": "code",
   "execution_count": 34,
   "metadata": {},
   "outputs": [
    {
     "data": {
      "text/plain": [
       "(8806, 1000)"
      ]
     },
     "execution_count": 34,
     "metadata": {},
     "output_type": "execute_result"
    }
   ],
   "source": [
    "SVD = TruncatedSVD(n_components=1000)\n",
    "svd_matrix = SVD.fit_transform(term_df)\n",
    "svd_matrix.shape"
   ]
  },
  {
   "cell_type": "code",
   "execution_count": 35,
   "metadata": {},
   "outputs": [
    {
     "data": {
      "text/plain": [
       "0.6692499038411953"
      ]
     },
     "execution_count": 35,
     "metadata": {},
     "output_type": "execute_result"
    }
   ],
   "source": [
    "SVD.explained_variance_ratio_.sum()"
   ]
  },
  {
   "cell_type": "code",
   "execution_count": 36,
   "metadata": {},
   "outputs": [
    {
     "data": {
      "image/png": "[encoded data removed]",
      "text/plain": [
       "<Figure size 1440x720 with 1 Axes>"
      ]
     },
     "metadata": {},
     "output_type": "display_data"
    }
   ],
   "source": [
    "fig = plt.figure(figsize=(20,10))\n",
    "plt.bar(np.array(range(1000))+1, \n",
    "        SVD.explained_variance_ratio_, \n",
    "        color='#353744', \n",
    "        label='explained variance')\n",
    "plt.plot(np.array(range(1000))+1, \n",
    "         np.cumsum(SVD.explained_variance_ratio_), \n",
    "         label='cumulative explained variance',\n",
    "         color='#63d297')\n",
    "plt.legend(fontsize=16)\n",
    "plt.xlabel('component', fontsize=20)\n",
    "plt.ylabel('variance ratio', fontsize=20)\n",
    "plt.title('Explained variance by component', fontsize=36);"
   ]
  },
  {
   "cell_type": "markdown",
   "metadata": {},
   "source": [
    "It seems as though every feature explains a minute amount of variance within the entire dataset. Given the similarity with which The Onion and non-Onion (yet still quite crazy sounding) headlines happen to have, this isn't entirely surprising, though I didn't expect that not a single component would explain even 3% of the variance. I can't even visualize a single components variance on this plot."
   ]
  },
  {
   "cell_type": "code",
   "execution_count": 37,
   "metadata": {},
   "outputs": [],
   "source": [
    "component_names = [\"component_\"+str(i+1) for i in range(1000)]\n",
    "svd_df = pd.DataFrame(svd_matrix, columns=component_names)"
   ]
  },
  {
   "cell_type": "code",
   "execution_count": 38,
   "metadata": {},
   "outputs": [
    {
     "data": {
      "text/html": [
       "<div>\n",
       "<style scoped>\n",
       "    .dataframe tbody tr th:only-of-type {\n",
       "        vertical-align: middle;\n",
       "    }\n",
       "\n",
       "    .dataframe tbody tr th {\n",
       "        vertical-align: top;\n",
       "    }\n",
       "\n",
       "    .dataframe thead th {\n",
       "        text-align: right;\n",
       "    }\n",
       "</style>\n",
       "<table border=\"1\" class=\"dataframe\">\n",
       "  <thead>\n",
       "    <tr style=\"text-align: right;\">\n",
       "      <th></th>\n",
       "      <th>component_1</th>\n",
       "      <th>component_2</th>\n",
       "      <th>component_3</th>\n",
       "      <th>component_4</th>\n",
       "      <th>component_5</th>\n",
       "      <th>component_6</th>\n",
       "      <th>component_7</th>\n",
       "      <th>component_8</th>\n",
       "      <th>component_9</th>\n",
       "      <th>component_10</th>\n",
       "      <th>...</th>\n",
       "      <th>component_991</th>\n",
       "      <th>component_992</th>\n",
       "      <th>component_993</th>\n",
       "      <th>component_994</th>\n",
       "      <th>component_995</th>\n",
       "      <th>component_996</th>\n",
       "      <th>component_997</th>\n",
       "      <th>component_998</th>\n",
       "      <th>component_999</th>\n",
       "      <th>component_1000</th>\n",
       "    </tr>\n",
       "  </thead>\n",
       "  <tbody>\n",
       "    <tr>\n",
       "      <th>0</th>\n",
       "      <td>0.017320</td>\n",
       "      <td>0.081088</td>\n",
       "      <td>-0.033523</td>\n",
       "      <td>0.121732</td>\n",
       "      <td>0.229534</td>\n",
       "      <td>-0.055085</td>\n",
       "      <td>0.197615</td>\n",
       "      <td>0.060283</td>\n",
       "      <td>0.064098</td>\n",
       "      <td>-0.029800</td>\n",
       "      <td>...</td>\n",
       "      <td>0.007577</td>\n",
       "      <td>0.000361</td>\n",
       "      <td>0.001633</td>\n",
       "      <td>0.009625</td>\n",
       "      <td>-0.000631</td>\n",
       "      <td>-0.002298</td>\n",
       "      <td>0.000496</td>\n",
       "      <td>-0.005112</td>\n",
       "      <td>0.003521</td>\n",
       "      <td>-0.002469</td>\n",
       "    </tr>\n",
       "    <tr>\n",
       "      <th>1</th>\n",
       "      <td>0.005344</td>\n",
       "      <td>0.018737</td>\n",
       "      <td>-0.006767</td>\n",
       "      <td>-0.008445</td>\n",
       "      <td>-0.006199</td>\n",
       "      <td>-0.000997</td>\n",
       "      <td>0.002856</td>\n",
       "      <td>0.010173</td>\n",
       "      <td>-0.000499</td>\n",
       "      <td>0.001820</td>\n",
       "      <td>...</td>\n",
       "      <td>0.008311</td>\n",
       "      <td>0.044279</td>\n",
       "      <td>-0.010798</td>\n",
       "      <td>0.005571</td>\n",
       "      <td>-0.007058</td>\n",
       "      <td>-0.030551</td>\n",
       "      <td>-0.030914</td>\n",
       "      <td>0.017937</td>\n",
       "      <td>0.022839</td>\n",
       "      <td>0.035893</td>\n",
       "    </tr>\n",
       "    <tr>\n",
       "      <th>2</th>\n",
       "      <td>0.005228</td>\n",
       "      <td>0.020008</td>\n",
       "      <td>-0.006038</td>\n",
       "      <td>0.007440</td>\n",
       "      <td>0.003707</td>\n",
       "      <td>-0.001170</td>\n",
       "      <td>-0.007097</td>\n",
       "      <td>0.003213</td>\n",
       "      <td>-0.012215</td>\n",
       "      <td>0.002708</td>\n",
       "      <td>...</td>\n",
       "      <td>0.008681</td>\n",
       "      <td>-0.010644</td>\n",
       "      <td>-0.012131</td>\n",
       "      <td>0.006742</td>\n",
       "      <td>0.006108</td>\n",
       "      <td>0.006144</td>\n",
       "      <td>0.010917</td>\n",
       "      <td>-0.032139</td>\n",
       "      <td>-0.032518</td>\n",
       "      <td>-0.029128</td>\n",
       "    </tr>\n",
       "    <tr>\n",
       "      <th>3</th>\n",
       "      <td>0.006595</td>\n",
       "      <td>0.024682</td>\n",
       "      <td>-0.009843</td>\n",
       "      <td>0.002697</td>\n",
       "      <td>-0.000422</td>\n",
       "      <td>-0.000586</td>\n",
       "      <td>-0.003821</td>\n",
       "      <td>-0.006777</td>\n",
       "      <td>-0.013209</td>\n",
       "      <td>-0.000255</td>\n",
       "      <td>...</td>\n",
       "      <td>0.009840</td>\n",
       "      <td>0.004444</td>\n",
       "      <td>-0.019821</td>\n",
       "      <td>0.003449</td>\n",
       "      <td>0.012134</td>\n",
       "      <td>-0.014290</td>\n",
       "      <td>-0.010587</td>\n",
       "      <td>-0.010856</td>\n",
       "      <td>-0.006851</td>\n",
       "      <td>0.002863</td>\n",
       "    </tr>\n",
       "    <tr>\n",
       "      <th>4</th>\n",
       "      <td>0.018271</td>\n",
       "      <td>0.071394</td>\n",
       "      <td>-0.015829</td>\n",
       "      <td>0.013938</td>\n",
       "      <td>0.018760</td>\n",
       "      <td>0.001742</td>\n",
       "      <td>-0.034628</td>\n",
       "      <td>-0.030071</td>\n",
       "      <td>-0.060521</td>\n",
       "      <td>-0.023220</td>\n",
       "      <td>...</td>\n",
       "      <td>0.002206</td>\n",
       "      <td>-0.001233</td>\n",
       "      <td>-0.006522</td>\n",
       "      <td>-0.001451</td>\n",
       "      <td>0.004837</td>\n",
       "      <td>0.019210</td>\n",
       "      <td>-0.014802</td>\n",
       "      <td>-0.005918</td>\n",
       "      <td>0.008490</td>\n",
       "      <td>-0.012990</td>\n",
       "    </tr>\n",
       "  </tbody>\n",
       "</table>\n",
       "<p>5 rows × 1000 columns</p>\n",
       "</div>"
      ],
      "text/plain": [
       "   component_1  component_2  component_3  component_4  component_5  \\\n",
       "0     0.017320     0.081088    -0.033523     0.121732     0.229534   \n",
       "1     0.005344     0.018737    -0.006767    -0.008445    -0.006199   \n",
       "2     0.005228     0.020008    -0.006038     0.007440     0.003707   \n",
       "3     0.006595     0.024682    -0.009843     0.002697    -0.000422   \n",
       "4     0.018271     0.071394    -0.015829     0.013938     0.018760   \n",
       "\n",
       "   component_6  component_7  component_8  component_9  component_10  \\\n",
       "0    -0.055085     0.197615     0.060283     0.064098     -0.029800   \n",
       "1    -0.000997     0.002856     0.010173    -0.000499      0.001820   \n",
       "2    -0.001170    -0.007097     0.003213    -0.012215      0.002708   \n",
       "3    -0.000586    -0.003821    -0.006777    -0.013209     -0.000255   \n",
       "4     0.001742    -0.034628    -0.030071    -0.060521     -0.023220   \n",
       "\n",
       "        ...        component_991  component_992  component_993  component_994  \\\n",
       "0       ...             0.007577       0.000361       0.001633       0.009625   \n",
       "1       ...             0.008311       0.044279      -0.010798       0.005571   \n",
       "2       ...             0.008681      -0.010644      -0.012131       0.006742   \n",
       "3       ...             0.009840       0.004444      -0.019821       0.003449   \n",
       "4       ...             0.002206      -0.001233      -0.006522      -0.001451   \n",
       "\n",
       "   component_995  component_996  component_997  component_998  component_999  \\\n",
       "0      -0.000631      -0.002298       0.000496      -0.005112       0.003521   \n",
       "1      -0.007058      -0.030551      -0.030914       0.017937       0.022839   \n",
       "2       0.006108       0.006144       0.010917      -0.032139      -0.032518   \n",
       "3       0.012134      -0.014290      -0.010587      -0.010856      -0.006851   \n",
       "4       0.004837       0.019210      -0.014802      -0.005918       0.008490   \n",
       "\n",
       "   component_1000  \n",
       "0       -0.002469  \n",
       "1        0.035893  \n",
       "2       -0.029128  \n",
       "3        0.002863  \n",
       "4       -0.012990  \n",
       "\n",
       "[5 rows x 1000 columns]"
      ]
     },
     "execution_count": 38,
     "metadata": {},
     "output_type": "execute_result"
    }
   ],
   "source": [
    "svd_df.head()"
   ]
  },
  {
   "cell_type": "markdown",
   "metadata": {},
   "source": [
    "I'm going to examine the difference between the TFIDF and SVD matrices. I want to get a good idea of which dataset may work best for modeling, and if there's anything that I can clean from the shape of the data."
   ]
  },
  {
   "cell_type": "markdown",
   "metadata": {},
   "source": [
    "## Examining TFIDF & SVD Weights"
   ]
  },
  {
   "cell_type": "code",
   "execution_count": 111,
   "metadata": {},
   "outputs": [],
   "source": [
    "term_weight_sums = term_df.apply(lambda x: sum(x), 1)\n",
    "term_weight_sums_2 = term_df_2.apply(lambda x: sum(x), 1)\n",
    "mean_tws_nto = term_weight_sums[:4085].mean()\n",
    "mean_tws_to = term_weight_sums[4086:].mean()\n",
    "std_tws_nto = np.std(term_weight_sums[:4085]) \n",
    "std_tws_to = np.std(term_weight_sums[4086:])\n",
    "\n",
    "mean_tws2_nto = term_weight_sums_2[:4085].mean()\n",
    "mean_tws2_to = term_weight_sums_2[4086:].mean()\n",
    "std_tws2_nto = np.std(term_weight_sums_2[:4085])\n",
    "std_tws2_to = np.std(term_weight_sums_2[4086:])\n",
    "\n",
    "sparse_df = term_df.apply(lambda x: x == 0.0)\n",
    "sparse_totals = sparse_df.apply(lambda x: sum(x), 1)\n",
    "mean_sparse_total_nto = sparse_totals[:4085].mean()\n",
    "mean_sparse_total_to = sparse_totals[4086:].mean()\n",
    "\n",
    "sparse_df2 = term_df_2.apply(lambda x: x == 0.0)\n",
    "sparse_totals2 = sparse_df2.apply(lambda x: sum(x), 1)\n",
    "mean_sparse_totals2_nto = sparse_totals[:4085].mean()\n",
    "mean_sparse_totals2_to = sparse_totals[4086:].mean()\n",
    "\n",
    "svd_weight_sums = svd_df.apply(lambda x: sum(x), 1)\n",
    "svd_weight_sums_abs = svd_weight_sums.apply(lambda x: np.abs(x),1)\n",
    "mean_weight_svd_nto = svd_weight_sums_abs[:4085].mean()\n",
    "mean_weight_svd_to = svd_weight_sums_abs[4086:].mean()\n",
    "\n",
    "std_weight_svd_nto = np.std(svd_weight_sums_abs[:4085])\n",
    "std_weight_svd_to = np.std(svd_weight_sums_abs[4086:])\n",
    "\n",
    "sparse_svd_df = svd_df.apply(lambda x: x == 0.0)\n",
    "sparse_svd_totals = sparse_svd_df.apply(lambda x: sum(x), 1)\n",
    "mean_sparse_svd_total_nto = sparse_svd_totals[:4085].mean()\n",
    "mean_sparse_svd_total_to = sparse_svd_totals[4086:].mean()"
   ]
  },
  {
   "cell_type": "code",
   "execution_count": 115,
   "metadata": {},
   "outputs": [
    {
     "name": "stdout",
     "output_type": "stream",
     "text": [
      "\n",
      "    - Mean Total Term Weight - Not the Onion: 2.421\n",
      "    - Mean Total Term Weight - The Onion: 2.418\n",
      "    - Mean Total Term Weight - TFIDF II - Not the Onion: 2.567\n",
      "    - Mean Total Term Weight - TFIDF II - The Onion: 2.509    \n",
      "    - Mean Total Term Weight - SVD - Not the Onion: 0.666540\n",
      "    - Mean Total Term Weight - SVD - The Onion: 0.637790\n",
      "   \n",
      "    - Standard Deviation of Total Term Weights - Not the Onion: 0.544\n",
      "    - Standard Deviation of Total Term Weights - The Onion: 0.620\n",
      "    - Standard Deviation of Total Term Weights - TFIDF II - Not the Onion: 0.661\n",
      "    - Standard Deviation of Total Term Weights - TFIDF II - The Onion: 0.662\n",
      "    - Standard Deviation of Total Term Weights - SVD - Not the Onion: 0.501\n",
      "    - Standard Deviation of Total Term Weights - SVD - The Onion: 0.484\n",
      "         \n",
      "    - Mean Sparse Total - Not the Onion: 3481.660\n",
      "    - Mean Sparse Total - The Onion: 3481.563\n",
      "    - Mean Sparse Total - TFIDF II - Not the Onion: 3481.660\n",
      "    - Mean Sparse Total - TFIDF II - The Onion: 3481.563\n",
      "    - Mean Sparse Total - SVD - Not the Onion: 3.672\n",
      "    - Mean Sparse Total - SVD - The Onion: 7.203    \n",
      "         \n"
     ]
    }
   ],
   "source": [
    "print('''\n",
    "    - Mean Total Term Weight - Not the Onion: {:.3f}\n",
    "    - Mean Total Term Weight - The Onion: {:.3f}\n",
    "    - Mean Total Term Weight - TFIDF II - Not the Onion: {:.3f}\n",
    "    - Mean Total Term Weight - TFIDF II - The Onion: {:.3f}    \n",
    "    - Mean Total Term Weight - SVD - Not the Onion: {:3f}\n",
    "    - Mean Total Term Weight - SVD - The Onion: {:3f}\n",
    "   \n",
    "    - Standard Deviation of Total Term Weights - Not the Onion: {:.3f}\n",
    "    - Standard Deviation of Total Term Weights - The Onion: {:.3f}\n",
    "    - Standard Deviation of Total Term Weights - TFIDF II - Not the Onion: {:.3f}\n",
    "    - Standard Deviation of Total Term Weights - TFIDF II - The Onion: {:.3f}\n",
    "    - Standard Deviation of Total Term Weights - SVD - Not the Onion: {:.3f}\n",
    "    - Standard Deviation of Total Term Weights - SVD - The Onion: {:.3f}\n",
    "         \n",
    "    - Mean Sparse Total - Not the Onion: {:.3f}\n",
    "    - Mean Sparse Total - The Onion: {:.3f}\n",
    "    - Mean Sparse Total - TFIDF II - Not the Onion: {:.3f}\n",
    "    - Mean Sparse Total - TFIDF II - The Onion: {:.3f}\n",
    "    - Mean Sparse Total - SVD - Not the Onion: {:.3f}\n",
    "    - Mean Sparse Total - SVD - The Onion: {:.3f}    \n",
    "         '''.format(mean_tws_nto, mean_tws_to, mean_tws2_nto, mean_tws2_to, mean_weight_svd_nto, mean_weight_svd_to,\n",
    "                    std_tws_nto, std_tws_to, std_tws2_nto, std_tws2_to, std_weight_svd_nto, std_weight_svd_to,\n",
    "                    mean_sparse_total_nto, mean_sparse_total_to, mean_sparse_totals2_nto, mean_sparse_totals2_to, mean_sparse_svd_total_nto, mean_sparse_svd_total_to))"
   ]
  },
  {
   "cell_type": "markdown",
   "metadata": {},
   "source": [
    "**Mean Total Term Weight & Standard Deviation:** My thought here is that a significant enough difference in total weights between The Onion and Not the Onion headlines would make much it easier for my model to differentiate the two classes. It looks like both the SVD and TFIDF with 2-ngram vectors are the most separated. Perhaps that means models using those datasets will be the most accurate, or at least the chances are.\n",
    "\n",
    "**Mean Sparse Total:** I'm referring to the mean number of 0's present in a given term. My thought here is that since The Onion headlines are slightly longer on average, that they'll end up being less sparse, and therefore easier to dileneate from Not the Onion headlines. This does seem to be the case with the non-SVD matrices, with Not the Onion headlines tending to be more sparse. However, it's the opposite of what I'm seeing with the SVD matrix. It makes me think that there are more telling terms within Not the Onion headlines, i.e., they have include more terms which have a weight."
   ]
  },
  {
   "cell_type": "markdown",
   "metadata": {},
   "source": [
    "Going forward, I'll just examine the SVD Matrix with a feature loadings matrix, since I'm seeing a lot of evidence that it'll perform the best in modeling."
   ]
  },
  {
   "cell_type": "markdown",
   "metadata": {},
   "source": [
    "## Creating Feature Loadings Matrix "
   ]
  },
  {
   "cell_type": "code",
   "execution_count": 46,
   "metadata": {},
   "outputs": [],
   "source": [
    "loadings = pd.DataFrame(SVD.components_,\n",
    "                        index=component_names,\n",
    "                        columns=term_df.columns).T"
   ]
  },
  {
   "cell_type": "code",
   "execution_count": 40,
   "metadata": {},
   "outputs": [],
   "source": [
    "loadings['abs_component_1'] = np.abs(loadings.component_1)\n",
    "loadings['abs_component_2'] = np.abs(loadings.component_2)"
   ]
  },
  {
   "cell_type": "code",
   "execution_count": 41,
   "metadata": {},
   "outputs": [
    {
     "data": {
      "text/html": [
       "<div>\n",
       "<style scoped>\n",
       "    .dataframe tbody tr th:only-of-type {\n",
       "        vertical-align: middle;\n",
       "    }\n",
       "\n",
       "    .dataframe tbody tr th {\n",
       "        vertical-align: top;\n",
       "    }\n",
       "\n",
       "    .dataframe thead th {\n",
       "        text-align: right;\n",
       "    }\n",
       "</style>\n",
       "<table border=\"1\" class=\"dataframe\">\n",
       "  <thead>\n",
       "    <tr style=\"text-align: right;\">\n",
       "      <th></th>\n",
       "      <th>component_1</th>\n",
       "      <th>component_2</th>\n",
       "      <th>component_3</th>\n",
       "      <th>component_4</th>\n",
       "      <th>component_5</th>\n",
       "      <th>component_6</th>\n",
       "      <th>component_7</th>\n",
       "      <th>component_8</th>\n",
       "      <th>component_9</th>\n",
       "      <th>component_10</th>\n",
       "      <th>...</th>\n",
       "      <th>component_993</th>\n",
       "      <th>component_994</th>\n",
       "      <th>component_995</th>\n",
       "      <th>component_996</th>\n",
       "      <th>component_997</th>\n",
       "      <th>component_998</th>\n",
       "      <th>component_999</th>\n",
       "      <th>component_1000</th>\n",
       "      <th>abs_component_1</th>\n",
       "      <th>abs_component_2</th>\n",
       "    </tr>\n",
       "  </thead>\n",
       "  <tbody>\n",
       "    <tr>\n",
       "      <th>zinke</th>\n",
       "      <td>0.000322</td>\n",
       "      <td>0.001060</td>\n",
       "      <td>0.000397</td>\n",
       "      <td>0.000070</td>\n",
       "      <td>0.000200</td>\n",
       "      <td>-0.000113</td>\n",
       "      <td>-0.000215</td>\n",
       "      <td>0.000286</td>\n",
       "      <td>-0.000819</td>\n",
       "      <td>-0.000164</td>\n",
       "      <td>...</td>\n",
       "      <td>-0.015885</td>\n",
       "      <td>-0.001255</td>\n",
       "      <td>-0.005510</td>\n",
       "      <td>0.014632</td>\n",
       "      <td>-0.018605</td>\n",
       "      <td>-0.004038</td>\n",
       "      <td>-0.007874</td>\n",
       "      <td>0.000635</td>\n",
       "      <td>0.000322</td>\n",
       "      <td>0.001060</td>\n",
       "    </tr>\n",
       "    <tr>\n",
       "      <th>zone</th>\n",
       "      <td>0.001770</td>\n",
       "      <td>0.003020</td>\n",
       "      <td>-0.003010</td>\n",
       "      <td>-0.001675</td>\n",
       "      <td>-0.000783</td>\n",
       "      <td>0.003121</td>\n",
       "      <td>0.000812</td>\n",
       "      <td>-0.001065</td>\n",
       "      <td>-0.002768</td>\n",
       "      <td>0.001305</td>\n",
       "      <td>...</td>\n",
       "      <td>0.000609</td>\n",
       "      <td>0.023463</td>\n",
       "      <td>-0.004666</td>\n",
       "      <td>-0.004301</td>\n",
       "      <td>0.004071</td>\n",
       "      <td>0.000003</td>\n",
       "      <td>0.006348</td>\n",
       "      <td>0.006407</td>\n",
       "      <td>0.001770</td>\n",
       "      <td>0.003020</td>\n",
       "    </tr>\n",
       "    <tr>\n",
       "      <th>zones</th>\n",
       "      <td>0.000833</td>\n",
       "      <td>0.005813</td>\n",
       "      <td>0.007466</td>\n",
       "      <td>-0.000790</td>\n",
       "      <td>-0.001503</td>\n",
       "      <td>-0.000006</td>\n",
       "      <td>0.000150</td>\n",
       "      <td>-0.002050</td>\n",
       "      <td>0.000225</td>\n",
       "      <td>0.000473</td>\n",
       "      <td>...</td>\n",
       "      <td>-0.004739</td>\n",
       "      <td>0.002158</td>\n",
       "      <td>0.009211</td>\n",
       "      <td>-0.006178</td>\n",
       "      <td>-0.015992</td>\n",
       "      <td>-0.007420</td>\n",
       "      <td>-0.004394</td>\n",
       "      <td>-0.001355</td>\n",
       "      <td>0.000833</td>\n",
       "      <td>0.005813</td>\n",
       "    </tr>\n",
       "    <tr>\n",
       "      <th>zoo</th>\n",
       "      <td>0.003133</td>\n",
       "      <td>0.015110</td>\n",
       "      <td>-0.014347</td>\n",
       "      <td>-0.006081</td>\n",
       "      <td>-0.004274</td>\n",
       "      <td>-0.000717</td>\n",
       "      <td>0.004769</td>\n",
       "      <td>-0.008825</td>\n",
       "      <td>-0.004532</td>\n",
       "      <td>-0.004415</td>\n",
       "      <td>...</td>\n",
       "      <td>0.003177</td>\n",
       "      <td>0.016061</td>\n",
       "      <td>-0.024768</td>\n",
       "      <td>-0.008036</td>\n",
       "      <td>-0.002413</td>\n",
       "      <td>0.001732</td>\n",
       "      <td>-0.001544</td>\n",
       "      <td>0.009477</td>\n",
       "      <td>0.003133</td>\n",
       "      <td>0.015110</td>\n",
       "    </tr>\n",
       "    <tr>\n",
       "      <th>zuckerberg</th>\n",
       "      <td>0.008379</td>\n",
       "      <td>0.004679</td>\n",
       "      <td>-0.001334</td>\n",
       "      <td>0.004667</td>\n",
       "      <td>0.004102</td>\n",
       "      <td>0.000294</td>\n",
       "      <td>-0.007591</td>\n",
       "      <td>-0.005425</td>\n",
       "      <td>-0.010198</td>\n",
       "      <td>0.023855</td>\n",
       "      <td>...</td>\n",
       "      <td>0.010996</td>\n",
       "      <td>-0.002966</td>\n",
       "      <td>-0.001445</td>\n",
       "      <td>0.017086</td>\n",
       "      <td>-0.005086</td>\n",
       "      <td>0.009352</td>\n",
       "      <td>0.005868</td>\n",
       "      <td>-0.000051</td>\n",
       "      <td>0.008379</td>\n",
       "      <td>0.004679</td>\n",
       "    </tr>\n",
       "  </tbody>\n",
       "</table>\n",
       "<p>5 rows × 1002 columns</p>\n",
       "</div>"
      ],
      "text/plain": [
       "            component_1  component_2  component_3  component_4  component_5  \\\n",
       "zinke          0.000322     0.001060     0.000397     0.000070     0.000200   \n",
       "zone           0.001770     0.003020    -0.003010    -0.001675    -0.000783   \n",
       "zones          0.000833     0.005813     0.007466    -0.000790    -0.001503   \n",
       "zoo            0.003133     0.015110    -0.014347    -0.006081    -0.004274   \n",
       "zuckerberg     0.008379     0.004679    -0.001334     0.004667     0.004102   \n",
       "\n",
       "            component_6  component_7  component_8  component_9  component_10  \\\n",
       "zinke         -0.000113    -0.000215     0.000286    -0.000819     -0.000164   \n",
       "zone           0.003121     0.000812    -0.001065    -0.002768      0.001305   \n",
       "zones         -0.000006     0.000150    -0.002050     0.000225      0.000473   \n",
       "zoo           -0.000717     0.004769    -0.008825    -0.004532     -0.004415   \n",
       "zuckerberg     0.000294    -0.007591    -0.005425    -0.010198      0.023855   \n",
       "\n",
       "                 ...         component_993  component_994  component_995  \\\n",
       "zinke            ...             -0.015885      -0.001255      -0.005510   \n",
       "zone             ...              0.000609       0.023463      -0.004666   \n",
       "zones            ...             -0.004739       0.002158       0.009211   \n",
       "zoo              ...              0.003177       0.016061      -0.024768   \n",
       "zuckerberg       ...              0.010996      -0.002966      -0.001445   \n",
       "\n",
       "            component_996  component_997  component_998  component_999  \\\n",
       "zinke            0.014632      -0.018605      -0.004038      -0.007874   \n",
       "zone            -0.004301       0.004071       0.000003       0.006348   \n",
       "zones           -0.006178      -0.015992      -0.007420      -0.004394   \n",
       "zoo             -0.008036      -0.002413       0.001732      -0.001544   \n",
       "zuckerberg       0.017086      -0.005086       0.009352       0.005868   \n",
       "\n",
       "            component_1000  abs_component_1  abs_component_2  \n",
       "zinke             0.000635         0.000322         0.001060  \n",
       "zone              0.006407         0.001770         0.003020  \n",
       "zones            -0.001355         0.000833         0.005813  \n",
       "zoo               0.009477         0.003133         0.015110  \n",
       "zuckerberg       -0.000051         0.008379         0.004679  \n",
       "\n",
       "[5 rows x 1002 columns]"
      ]
     },
     "execution_count": 41,
     "metadata": {},
     "output_type": "execute_result"
    }
   ],
   "source": [
    "loadings.tail()"
   ]
  },
  {
   "cell_type": "markdown",
   "metadata": {},
   "source": [
    "**Looking at Individual Components**"
   ]
  },
  {
   "cell_type": "code",
   "execution_count": 42,
   "metadata": {},
   "outputs": [
    {
     "data": {
      "text/html": [
       "<div>\n",
       "<style scoped>\n",
       "    .dataframe tbody tr th:only-of-type {\n",
       "        vertical-align: middle;\n",
       "    }\n",
       "\n",
       "    .dataframe tbody tr th {\n",
       "        vertical-align: top;\n",
       "    }\n",
       "\n",
       "    .dataframe thead th {\n",
       "        text-align: right;\n",
       "    }\n",
       "</style>\n",
       "<table border=\"1\" class=\"dataframe\">\n",
       "  <thead>\n",
       "    <tr style=\"text-align: right;\">\n",
       "      <th></th>\n",
       "      <th>component_1</th>\n",
       "    </tr>\n",
       "  </thead>\n",
       "  <tbody>\n",
       "    <tr>\n",
       "      <th>say</th>\n",
       "      <td>0.694569</td>\n",
       "    </tr>\n",
       "    <tr>\n",
       "      <th>said</th>\n",
       "      <td>0.644676</td>\n",
       "    </tr>\n",
       "    <tr>\n",
       "      <th>man</th>\n",
       "      <td>0.101917</td>\n",
       "    </tr>\n",
       "    <tr>\n",
       "      <th>trump</th>\n",
       "      <td>0.073660</td>\n",
       "    </tr>\n",
       "    <tr>\n",
       "      <th>police</th>\n",
       "      <td>0.070640</td>\n",
       "    </tr>\n",
       "    <tr>\n",
       "      <th>david</th>\n",
       "      <td>0.067068</td>\n",
       "    </tr>\n",
       "    <tr>\n",
       "      <th>james</th>\n",
       "      <td>0.065816</td>\n",
       "    </tr>\n",
       "    <tr>\n",
       "      <th>just</th>\n",
       "      <td>0.045089</td>\n",
       "    </tr>\n",
       "    <tr>\n",
       "      <th>new</th>\n",
       "      <td>0.043757</td>\n",
       "    </tr>\n",
       "    <tr>\n",
       "      <th>john</th>\n",
       "      <td>0.041873</td>\n",
       "    </tr>\n",
       "    <tr>\n",
       "      <th>tim</th>\n",
       "      <td>0.040694</td>\n",
       "    </tr>\n",
       "    <tr>\n",
       "      <th>life</th>\n",
       "      <td>0.039890</td>\n",
       "    </tr>\n",
       "    <tr>\n",
       "      <th>woman</th>\n",
       "      <td>0.039111</td>\n",
       "    </tr>\n",
       "    <tr>\n",
       "      <th>tom</th>\n",
       "      <td>0.038179</td>\n",
       "    </tr>\n",
       "    <tr>\n",
       "      <th>michael</th>\n",
       "      <td>0.036176</td>\n",
       "    </tr>\n",
       "    <tr>\n",
       "      <th>dr</th>\n",
       "      <td>0.035470</td>\n",
       "    </tr>\n",
       "    <tr>\n",
       "      <th>paul</th>\n",
       "      <td>0.034635</td>\n",
       "    </tr>\n",
       "    <tr>\n",
       "      <th>francis</th>\n",
       "      <td>0.034385</td>\n",
       "    </tr>\n",
       "    <tr>\n",
       "      <th>pope</th>\n",
       "      <td>0.032623</td>\n",
       "    </tr>\n",
       "    <tr>\n",
       "      <th>says</th>\n",
       "      <td>0.030740</td>\n",
       "    </tr>\n",
       "  </tbody>\n",
       "</table>\n",
       "</div>"
      ],
      "text/plain": [
       "         component_1\n",
       "say         0.694569\n",
       "said        0.644676\n",
       "man         0.101917\n",
       "trump       0.073660\n",
       "police      0.070640\n",
       "david       0.067068\n",
       "james       0.065816\n",
       "just        0.045089\n",
       "new         0.043757\n",
       "john        0.041873\n",
       "tim         0.040694\n",
       "life        0.039890\n",
       "woman       0.039111\n",
       "tom         0.038179\n",
       "michael     0.036176\n",
       "dr          0.035470\n",
       "paul        0.034635\n",
       "francis     0.034385\n",
       "pope        0.032623\n",
       "says        0.030740"
      ]
     },
     "execution_count": 42,
     "metadata": {},
     "output_type": "execute_result"
    }
   ],
   "source": [
    "loadings.sort_values('abs_component_1',ascending=False).head(20)[['component_1']]"
   ]
  },
  {
   "cell_type": "markdown",
   "metadata": {},
   "source": [
    "In looking at the first component, it would seem as though lemmatizing (or at least stemming), could assist in consolidating some well-used vocabulary. Nonetheless, I don't plan on going back and lemmatizing unless my model performs poorly."
   ]
  },
  {
   "cell_type": "code",
   "execution_count": 43,
   "metadata": {},
   "outputs": [
    {
     "data": {
      "text/plain": [
       "<matplotlib.legend.Legend at 0x20b3a16128>"
      ]
     },
     "execution_count": 43,
     "metadata": {},
     "output_type": "execute_result"
    },
    {
     "data": {
      "image/png": "[encoded data removed]",
      "text/plain": [
       "<Figure size 1440x720 with 1 Axes>"
      ]
     },
     "metadata": {},
     "output_type": "display_data"
    }
   ],
   "source": [
    "plt.figure(figsize=(20,10))\n",
    "plt.scatter(svd_df.component_1[target==1], svd_df.component_2[target==1], c='#63d297', alpha=.5)\n",
    "plt.scatter(svd_df.component_1[target==0], svd_df.component_2[target==0], c='#353744', alpha=.3)\n",
    "plt.xlabel(f\"{', '.join(loadings.sort_values('abs_component_1',ascending=False).head(5)[['component_1']].index)}\",\n",
    "          fontsize=20)\n",
    "plt.ylabel(f\"{', '.join(loadings.sort_values('abs_component_2',ascending=False).head(5)[['component_2']].index)}\",\n",
    "          fontsize=20)\n",
    "plt.title('First Two Components of the SVD', fontsize=36)\n",
    "plt.legend(['The Onion', 'Not the Onion'], fontsize=16)"
   ]
  },
  {
   "cell_type": "markdown",
   "metadata": {},
   "source": [
    "Looking at the orthogonal relationship between the first two components of my SVD, I'm not super confident that my model will be able to accurately (90%+) delineate between Onion and Not the Onion headlines. If the first two components, which explain more of the variance within the dataset than any other two compontets, are largely similar for a majority of values within my datset, it wouldn't seem like they would lend well to making accurate predictions. Nonetheless, there still seems to be a difference in *sparseness* that isn't captured in this plot, so I'm confident I'll arrive at a reasonably accurate model."
   ]
  },
  {
   "cell_type": "markdown",
   "metadata": {},
   "source": [
    "**Pickling components of my Dataset for Modeling**"
   ]
  },
  {
   "cell_type": "code",
   "execution_count": 44,
   "metadata": {},
   "outputs": [],
   "source": [
    "with open('../pickle/tfidf_2.pkl', 'wb') as f:\n",
    "    pickle.dump(tfidf_2, f)\n",
    "with open('../pickle/term_df.pkl', 'wb') as f:\n",
    "    pickle.dump(term_df, f)\n",
    "with open('../pickle/term_df_2.pkl', 'wb') as f:\n",
    "    pickle.dump(term_df_2, f)\n",
    "with open('../pickle/svd_df.pkl', 'wb') as f:\n",
    "    pickle.dump(svd_df, f)\n",
    "with open('../pickle/target.pkl', 'wb') as f:\n",
    "    pickle.dump(target, f)"
   ]
  },
  {
   "cell_type": "markdown",
   "metadata": {},
   "source": [
    "**Go To: 03_modeling**"
   ]
  }
 ],
 "metadata": {
  "kernelspec": {
   "display_name": "Python 3",
   "language": "python",
   "name": "python3"
  },
  "language_info": {
   "codemirror_mode": {
    "name": "ipython",
    "version": 3
   },
   "file_extension": ".py",
   "mimetype": "text/x-python",
   "name": "python",
   "nbconvert_exporter": "python",
   "pygments_lexer": "ipython3",
   "version": "3.6.5"
  }
 },
 "nbformat": 4,
 "nbformat_minor": 2
}
